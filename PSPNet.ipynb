{
 "cells": [
  {
   "cell_type": "code",
   "execution_count": 0,
   "metadata": {
    "colab": {},
    "colab_type": "code",
    "id": "05KTXP7XoABy"
   },
   "outputs": [],
   "source": [
    "%tensorflow_version 2.x"
   ]
  },
  {
   "cell_type": "code",
   "execution_count": 2,
   "metadata": {
    "colab": {
     "base_uri": "https://localhost:8080/",
     "height": 121
    },
    "colab_type": "code",
    "executionInfo": {
     "elapsed": 32025,
     "status": "ok",
     "timestamp": 1590380849690,
     "user": {
      "displayName": "Yash Marathe",
      "photoUrl": "https://lh3.googleusercontent.com/a-/AOh14Gj6EPAvIiS1i9njCgKxadk3hNdSQobfL9GoeVcDV7U=s64",
      "userId": "14435337237198989153"
     },
     "user_tz": -330
    },
    "id": "Stpqi6N6oC4Q",
    "outputId": "c6335e23-1dce-4b03-b056-4cad1cba0846"
   },
   "outputs": [
    {
     "name": "stdout",
     "output_type": "stream",
     "text": [
      "Go to this URL in a browser: https://accounts.google.com/o/oauth2/auth?client_id=947318989803-6bn6qk8qdgf4n4g3pfee6491hc0brc4i.apps.googleusercontent.com&redirect_uri=urn%3aietf%3awg%3aoauth%3a2.0%3aoob&response_type=code&scope=email%20https%3a%2f%2fwww.googleapis.com%2fauth%2fdocs.test%20https%3a%2f%2fwww.googleapis.com%2fauth%2fdrive%20https%3a%2f%2fwww.googleapis.com%2fauth%2fdrive.photos.readonly%20https%3a%2f%2fwww.googleapis.com%2fauth%2fpeopleapi.readonly\n",
      "\n",
      "Enter your authorization code:\n",
      "··········\n",
      "Mounted at /content/drive\n"
     ]
    }
   ],
   "source": [
    "from google.colab import drive\n",
    "drive.mount('/content/drive')"
   ]
  },
  {
   "cell_type": "code",
   "execution_count": 3,
   "metadata": {
    "colab": {
     "base_uri": "https://localhost:8080/",
     "height": 34
    },
    "colab_type": "code",
    "executionInfo": {
     "elapsed": 35261,
     "status": "ok",
     "timestamp": 1590380852944,
     "user": {
      "displayName": "Yash Marathe",
      "photoUrl": "https://lh3.googleusercontent.com/a-/AOh14Gj6EPAvIiS1i9njCgKxadk3hNdSQobfL9GoeVcDV7U=s64",
      "userId": "14435337237198989153"
     },
     "user_tz": -330
    },
    "id": "ztrS-_z9nr42",
    "outputId": "5568672e-058f-455a-fb52-dc9e34f2bf48"
   },
   "outputs": [
    {
     "name": "stdout",
     "output_type": "stream",
     "text": [
      "Tensorflow ver. 2.2.0\n"
     ]
    }
   ],
   "source": [
    "import os\n",
    "import cv2\n",
    "from imutils import paths\n",
    "from tqdm import tqdm\n",
    "import numpy as np\n",
    "from glob import glob\n",
    "import matplotlib.pyplot as plt\n",
    "%matplotlib inline\n",
    "import tensorflow as tf\n",
    "import datetime\n",
    "from glob import glob\n",
    "import IPython.display as display\n",
    "from IPython.display import clear_output\n",
    "import math\n",
    "import time\n",
    "from tensorflow.keras.layers import *\n",
    "import warnings\n",
    "warnings.filterwarnings('ignore')\n",
    "# For more information about autotune:\n",
    "# https://www.tensorflow.org/guide/data_performance#prefetching\n",
    "AUTOTUNE = tf.data.experimental.AUTOTUNE\n",
    "print(f'Tensorflow ver. {tf.__version__}')"
   ]
  },
  {
   "cell_type": "markdown",
   "metadata": {
    "colab_type": "text",
    "id": "dlQWmSTdnr48"
   },
   "source": [
    "## Loading the Dataset "
   ]
  },
  {
   "cell_type": "code",
   "execution_count": 0,
   "metadata": {
    "colab": {},
    "colab_type": "code",
    "id": "MsHopd_8nr49"
   },
   "outputs": [],
   "source": [
    "# important for reproducibility\n",
    "# this allows to generate the same random numbers\n",
    "SEED = 42\n",
    "\n",
    "# Dataset path\n",
    "dataset_path = 'drive/My Drive/AppliedAICaseStudies/SemanticSegmentation/idd20k_lite/'\n",
    "img_train = dataset_path + 'leftImg8bit/train/'\n",
    "seg_train = dataset_path + 'gtFine/train/'\n",
    "\n",
    "img_val = dataset_path + 'leftImg8bit/val/'\n",
    "seg_val = dataset_path + 'gtFine/val/'"
   ]
  },
  {
   "cell_type": "markdown",
   "metadata": {
    "colab_type": "text",
    "id": "fJXKKV05nr5i"
   },
   "source": [
    "## Data Preparation "
   ]
  },
  {
   "cell_type": "code",
   "execution_count": 0,
   "metadata": {
    "colab": {},
    "colab_type": "code",
    "id": "0bp5XLcYnr5k"
   },
   "outputs": [],
   "source": [
    "# Image size that we are going to use\n",
    "(HEIGHT,WIDTH) = (128,128)\n",
    "# Our images are RGB (3 channels)\n",
    "N_CHANNELS = 3\n",
    "# Scene Parsing has 7 classes (0-6) + `not labeled`\n",
    "N_CLASSES = 8"
   ]
  },
  {
   "cell_type": "code",
   "execution_count": 16,
   "metadata": {
    "colab": {
     "base_uri": "https://localhost:8080/",
     "height": 50
    },
    "colab_type": "code",
    "executionInfo": {
     "elapsed": 102292,
     "status": "ok",
     "timestamp": 1590380920148,
     "user": {
      "displayName": "Yash Marathe",
      "photoUrl": "https://lh3.googleusercontent.com/a-/AOh14Gj6EPAvIiS1i9njCgKxadk3hNdSQobfL9GoeVcDV7U=s64",
      "userId": "14435337237198989153"
     },
     "user_tz": -330
    },
    "id": "a8_AtJ8Bnr5m",
    "outputId": "275ab26f-4575-468d-b1d1-d7175a959948"
   },
   "outputs": [
    {
     "name": "stdout",
     "output_type": "stream",
     "text": [
      "The Training Dataset contains 1403 images.\n",
      "The Validation Dataset contains 204 images.\n"
     ]
    }
   ],
   "source": [
    "# Reference -> https://docs.python.org/2/library/glob.html\n",
    "# The glob module finds all the pathnames matching a specified pattern according to the rules used by the Unix shell, \n",
    "# although results are returned in arbitrary order. \n",
    "\n",
    "TRAINSET_SIZE = len(glob(img_train+'*/*_image.jpg'))\n",
    "print(f\"The Training Dataset contains {TRAINSET_SIZE} images.\")\n",
    "\n",
    "VALSET_SIZE = len(glob(img_val+'*/*_image.jpg'))\n",
    "print(f\"The Validation Dataset contains {VALSET_SIZE} images.\")"
   ]
  },
  {
   "cell_type": "code",
   "execution_count": 0,
   "metadata": {
    "colab": {},
    "colab_type": "code",
    "id": "1ksntANjnr5p"
   },
   "outputs": [],
   "source": [
    "def parse_image(img_path):\n",
    "    \"\"\"\n",
    "    Load an image and its annotation (mask) and returning a dictionary.\n",
    "    \"\"\"\n",
    "    # Reading the image\n",
    "    image = tf.io.read_file(img_path)\n",
    "    image = tf.image.decode_jpeg(image, channels=3)\n",
    "    # For one Image path:\n",
    "    # .../idd20k_lite/leftImg8bit/train/024541_image.jpg\n",
    "    # Its corresponding annotation path is:\n",
    "    # .../idd20k_lite/gtFine/train/024541_label.png\n",
    "    mask_path = tf.strings.regex_replace(img_path, \"leftImg8bit\", \"gtFine\")\n",
    "    mask_path = tf.strings.regex_replace(mask_path, \"_image.jpg\", \"_label.png\")\n",
    "    # Reading the annotation file corresponding the image file\n",
    "    mask = tf.io.read_file(mask_path)\n",
    "    mask = tf.image.decode_png(mask, channels=1)\n",
    "    # In scene parsing, \"not labeled\" = 255\n",
    "    # But it will mess with our N_CLASS = 7\n",
    "    # Since 255 means the 255th class\n",
    "    # Which doesn't exist\n",
    "    mask = tf.where(mask==255, np.dtype('uint8').type(7), mask)\n",
    "    # Note that we have to convert the new value (7)\n",
    "    # With the same dtype than the tensor itself\n",
    "    return {'image': image, 'segmentation_mask': mask}"
   ]
  },
  {
   "cell_type": "code",
   "execution_count": 0,
   "metadata": {
    "colab": {},
    "colab_type": "code",
    "id": "sIxF4YUanr5s"
   },
   "outputs": [],
   "source": [
    "# Reference -> https://www.tensorflow.org/api_docs/python/tf/data/Dataset#list_files\n",
    "# tf.data.Dataset.list_files returns a dataset of all files matching one or more glob patterns.\n",
    "\n",
    "train_dataset = tf.data.Dataset.list_files(img_train+'*/*_image.jpg', seed=SEED)\n",
    "train_dataset = train_dataset.map(parse_image)\n",
    "\n",
    "val_dataset = tf.data.Dataset.list_files(img_val+'*/*_image.jpg', seed=SEED)\n",
    "val_dataset =val_dataset.map(parse_image)"
   ]
  },
  {
   "cell_type": "code",
   "execution_count": 0,
   "metadata": {
    "colab": {},
    "colab_type": "code",
    "id": "HRpudDSOnr5v"
   },
   "outputs": [],
   "source": [
    "# Reference -> https://www.tensorflow.org/api_docs/python/tf/cast\n",
    "# Returns a Tensor same shape as given tensor and same type as dtype that is mentioned.\n",
    "\n",
    "def normalize(input_image, input_mask):\n",
    "    \"\"\"\n",
    "    Rescale the pixel values of the images between 0 and 1 compared to [0,255] originally.\n",
    "    \"\"\"\n",
    "    input_image = tf.cast(input_image, tf.float32) / 255.0\n",
    "    return input_image, input_mask"
   ]
  },
  {
   "cell_type": "code",
   "execution_count": 0,
   "metadata": {
    "colab": {},
    "colab_type": "code",
    "id": "kZ1AAuYlnr5x"
   },
   "outputs": [],
   "source": [
    "# Reference -> https://www.tensorflow.org/api_docs/python/tf/image/resize\n",
    "# Resize images to the size specified\n",
    "\n",
    "def load_image_train(datapoint):\n",
    "    \"\"\"\n",
    "    Normalize and resize a train image and its annotation.\n",
    "    Apply random transformations to an input dictionary containing a train image and its annotation.\n",
    "    \"\"\"\n",
    "    input_image = tf.image.resize(datapoint['image'], (HEIGHT,WIDTH))\n",
    "    input_mask = tf.image.resize(datapoint['segmentation_mask'], (HEIGHT,WIDTH))\n",
    "    if tf.random.uniform(()) > 0.5:\n",
    "        input_image = tf.image.flip_left_right(input_image)\n",
    "        input_mask = tf.image.flip_left_right(input_mask)\n",
    "    input_image, input_mask = normalize(input_image, input_mask)\n",
    "    return input_image, input_mask\n",
    "\n",
    "def load_image_test(datapoint):\n",
    "    \"\"\"\n",
    "    Normalize and resize a test image and its annotation.\n",
    "    Since this is for the test set, we don't need to apply any data augmentation technique.\n",
    "    \"\"\"\n",
    "    input_image = tf.image.resize(datapoint['image'], (HEIGHT,WIDTH))\n",
    "    input_mask = tf.image.resize(datapoint['segmentation_mask'], (HEIGHT,WIDTH))\n",
    "    input_image, input_mask = normalize(input_image, input_mask)\n",
    "    return input_image, input_mask"
   ]
  },
  {
   "cell_type": "code",
   "execution_count": 0,
   "metadata": {
    "colab": {},
    "colab_type": "code",
    "id": "ZQF444Qcnr5z"
   },
   "outputs": [],
   "source": [
    "BATCH_SIZE = 16\n",
    "BUFFER_SIZE = 1500\n",
    "dataset = {\"train\": train_dataset, \"val\": val_dataset}"
   ]
  },
  {
   "cell_type": "code",
   "execution_count": 22,
   "metadata": {
    "colab": {
     "base_uri": "https://localhost:8080/",
     "height": 50
    },
    "colab_type": "code",
    "executionInfo": {
     "elapsed": 110807,
     "status": "ok",
     "timestamp": 1590380928702,
     "user": {
      "displayName": "Yash Marathe",
      "photoUrl": "https://lh3.googleusercontent.com/a-/AOh14Gj6EPAvIiS1i9njCgKxadk3hNdSQobfL9GoeVcDV7U=s64",
      "userId": "14435337237198989153"
     },
     "user_tz": -330
    },
    "id": "C3n8IUocnr52",
    "outputId": "57573be8-03b2-46e3-fe9e-d304b6b7e29f"
   },
   "outputs": [
    {
     "name": "stdout",
     "output_type": "stream",
     "text": [
      "<PrefetchDataset shapes: ((None, 128, 128, 3), (None, 128, 128, 1)), types: (tf.float32, tf.float32)>\n",
      "<PrefetchDataset shapes: ((None, 128, 128, 3), (None, 128, 128, 1)), types: (tf.float32, tf.float32)>\n"
     ]
    }
   ],
   "source": [
    "# Reference -> https://www.tensorflow.org/api_docs/python/tf/data/Dataset\n",
    "\n",
    "# Preparing the Train dataset by applying dataset transformations\n",
    "dataset['train'] = dataset['train'].map(load_image_train, num_parallel_calls=tf.data.experimental.AUTOTUNE)\n",
    "dataset['train'] = dataset['train'].shuffle(buffer_size=BUFFER_SIZE, seed=SEED)\n",
    "dataset['train'] = dataset['train'].repeat()\n",
    "dataset['train'] = dataset['train'].batch(BATCH_SIZE)\n",
    "dataset['train'] = dataset['train'].prefetch(buffer_size=AUTOTUNE)\n",
    "print(dataset['train'])\n",
    "\n",
    "# Preparing the Validation Dataset\n",
    "dataset['val'] = dataset['val'].map(load_image_test)\n",
    "dataset['val'] = dataset['val'].repeat()\n",
    "dataset['val'] = dataset['val'].batch(BATCH_SIZE)\n",
    "dataset['val'] = dataset['val'].prefetch(buffer_size=AUTOTUNE)\n",
    "print(dataset['val'])"
   ]
  },
  {
   "cell_type": "markdown",
   "metadata": {},
   "source": [
    "# PSPNet from Scratch"
   ]
  },
  {
   "cell_type": "code",
   "execution_count": 0,
   "metadata": {
    "colab": {},
    "colab_type": "code",
    "id": "hDEAJfhTIPuB"
   },
   "outputs": [],
   "source": [
    "# A class to get the basic convolution block \n",
    "# convolution_layer -> batch_normalization -> activation\n",
    "class BasicConvolutionBlock(tf.keras.Model):\n",
    "    \n",
    "    def __init__(self, filter_size, kernel_size, dilation_rate, alpha, block_number, initializer='he_normal'):\n",
    "        super(BasicConvolutionBlock, self).__init__()\n",
    "        self.block_number = block_number\n",
    "        self.convolution_layer = Convolution2D(filter_size, kernel_size =  kernel_size, \n",
    "                                               dilation_rate = dilation_rate, padding = 'same',\n",
    "                                               kernel_initializer = initializer)\n",
    "        self.batch_normalization = BatchNormalization()\n",
    "        self.activation = LeakyReLU(alpha = alpha)\n",
    "        \n",
    "    def call(self, inputs):\n",
    "        conv_output = self.convolution_layer(inputs)\n",
    "        norm_output = self.batch_normalization(conv_output)\n",
    "        if(self.block_number >= 3):\n",
    "            return norm_output\n",
    "        activation_output = self.activation(norm_output)  \n",
    "        return activation_output"
   ]
  },
  {
   "cell_type": "code",
   "execution_count": 0,
   "metadata": {
    "colab": {},
    "colab_type": "code",
    "id": "Ua2CSUuvIPuD"
   },
   "outputs": [],
   "source": [
    "# A Building Block of Residual Network\n",
    "class ConvolutionBlock(tf.keras.Model):\n",
    "    \n",
    "    def __init__(self, filters, initializer='he_normal'):     \n",
    "        super(ConvolutionBlock, self).__init__()\n",
    "        self.filters = filters\n",
    "        self.basic_convolution_1 = BasicConvolutionBlock(self.filters[0], (1,1), (1,1), 0.2, 1)\n",
    "        self.basic_convolution_2 = BasicConvolutionBlock(self.filters[1], (3,3), (2,2), 0.2, 2)\n",
    "        self.basic_convolution_3 = BasicConvolutionBlock(self.filters[2], (1,1), (1,1), None, 3)\n",
    "        self.skip_convolution = BasicConvolutionBlock(self.filters[2], (3,3), (1,1), None, 4)\n",
    "        # Last Block\n",
    "        self.add_layer = Add()\n",
    "        self.relu_activation = ReLU()\n",
    "     \n",
    "    def call(self, inputs):\n",
    "        skip_input = inputs\n",
    "        output_conv_1 = self.basic_convolution_1(inputs)\n",
    "        output_conv_2 = self.basic_convolution_2(output_conv_1)\n",
    "        output_conv_3 = self.basic_convolution_3(output_conv_2)\n",
    "        output_skip_conv = self.skip_convolution(skip_input)\n",
    "        # Last Block\n",
    "        add_output = self.add_layer([output_conv_3,output_skip_conv])\n",
    "        output = self.relu_activation(add_output)\n",
    "        return output"
   ]
  },
  {
   "cell_type": "code",
   "execution_count": 0,
   "metadata": {
    "colab": {},
    "colab_type": "code",
    "id": "2rtNpM3_IPuE"
   },
   "outputs": [],
   "source": [
    "# Encoder block for PSPNet Net\n",
    "class EncoderBlock(tf.keras.Model):\n",
    "    \n",
    "    def __init__(self, filters):\n",
    "        super(EncoderBlock, self).__init__()\n",
    "        self.filters = filters\n",
    "        self.convolution_block_1 = ConvolutionBlock(self.filters[0])\n",
    "        self.convolution_block_2 = ConvolutionBlock(self.filters[1])\n",
    "        self.convolution_block_3 = ConvolutionBlock(self.filters[2])\n",
    "        self.convolution_block_4 = ConvolutionBlock(self.filters[3])\n",
    "        \n",
    "    def call(self, inputs):     \n",
    "        output_block_1 = self.convolution_block_1(inputs)\n",
    "        output_block_2 = self.convolution_block_2(output_block_1)\n",
    "        output_block_3 = self.convolution_block_3(output_block_2) \n",
    "        output_block_4 = self.convolution_block_4(output_block_3)\n",
    "        return output_block_4"
   ]
  },
  {
   "cell_type": "code",
   "execution_count": 0,
   "metadata": {
    "colab": {},
    "colab_type": "code",
    "id": "HtEBVUAFIPuG"
   },
   "outputs": [],
   "source": [
    "# This class returns the pyramid feature map for Pyramid Pooling module\n",
    "# Pooling -> Convolution -> UpSampling\n",
    "class PyramidFeatureMap(tf.keras.Model):\n",
    "    \n",
    "    def __init__(self, block, filter_size, unsampling_size, pool_size, interpolation='bilinear'):\n",
    "        super(PyramidFeatureMap, self).__init__()\n",
    "        self.block = block\n",
    "        self.convolution_layer = Convolution2D(filter_size, kernel_size = (1,1))\n",
    "        self.upsampling_layer = UpSampling2D(unsampling_size, interpolation = interpolation)\n",
    "        self.average_pooling = AveragePooling2D(pool_size)\n",
    "        self.global_average_pooling = GlobalAveragePooling2D()\n",
    "        \n",
    "    def call(self,inputs):\n",
    "        if(self.block=='red'):\n",
    "            pool_output = self.global_average_pooling(inputs)\n",
    "            pool_output = Reshape((1,1,512))(pool_output)\n",
    "        else:\n",
    "            pool_output = self.average_pooling(inputs)\n",
    "        conv_output = self.convolution_layer(pool_output)\n",
    "        upsampling_output = self.upsampling_layer(conv_output)\n",
    "        return upsampling_output        "
   ]
  },
  {
   "cell_type": "code",
   "execution_count": 0,
   "metadata": {
    "colab": {},
    "colab_type": "code",
    "id": "gp5p-eeQIPuJ"
   },
   "outputs": [],
   "source": [
    "# This class builds the Pyramid Pooling Module\n",
    "# It builds the 4 feature maps and then concatenates all of them with the input\n",
    "class PyramidPoolingModule(tf.keras.Model):\n",
    "    \n",
    "    def __init__(self):\n",
    "        super(PyramidPoolingModule, self).__init__()\n",
    "        self.block_red = PyramidFeatureMap('red', 64, (128,128), (1,1))\n",
    "        self.block_yellow = PyramidFeatureMap('yellow', 64, 2, (2,2))\n",
    "        self.block_blue = PyramidFeatureMap('blue', 64, 4, (4,4))\n",
    "        self.block_green = PyramidFeatureMap('green', 64, 8, (8,8))\n",
    "        \n",
    "    def call(self,inputs):\n",
    "        red_output = self.block_red(inputs)\n",
    "        yellow_output = self.block_yellow(inputs)\n",
    "        blue_output = self.block_blue(inputs)\n",
    "        green_output = self.block_green(inputs)\n",
    "        merged = concatenate([inputs, red_output, yellow_output, blue_output, green_output])\n",
    "        return merged  "
   ]
  },
  {
   "cell_type": "code",
   "execution_count": 0,
   "metadata": {
    "colab": {},
    "colab_type": "code",
    "id": "xKlKJ5SVIPuL"
   },
   "outputs": [],
   "source": [
    "# This block is for the last stage\n",
    "# It gets the output of Pyramid Pooling Module and then performs convolution operation\n",
    "# Pyramid Pooling -> Convolution -> Batch Normalization -> Softmax activation\n",
    "class DecoderBlock(tf.keras.Model):\n",
    "    \n",
    "    def __init__(self, num_classes):\n",
    "        super(DecoderBlock, self).__init__()\n",
    "        self.pyramid_pooling_module = PyramidPoolingModule()\n",
    "        self.convolution_layer = Convolution2D(num_classes, kernel_size = (3,3), padding = 'same')\n",
    "        self.batch_norm_layer = BatchNormalization()\n",
    "        self.activation = Activation('softmax')\n",
    "    \n",
    "    def call(self, inputs):\n",
    "        merged = self.pyramid_pooling_module(inputs)\n",
    "        conv_output = self.convolution_layer(merged)\n",
    "        norm_output = self.batch_norm_layer(conv_output)\n",
    "        output = self.activation(norm_output)\n",
    "        return output"
   ]
  },
  {
   "cell_type": "code",
   "execution_count": 0,
   "metadata": {
    "colab": {},
    "colab_type": "code",
    "id": "2SKIp8d7IPuN"
   },
   "outputs": [],
   "source": [
    "#This final class for the Model\n",
    "class PSPNetModel(tf.keras.Model):\n",
    "    \n",
    "    def __init__(self, num_classes):\n",
    "        super(PSPNetModel, self).__init__()\n",
    "        self.encoder = EncoderBlock([[32,32,64],[64,64,128],[128,128,256],[256,256,512]])\n",
    "        self.decoder = DecoderBlock(num_classes)\n",
    "        \n",
    "    def call(self, inputs):\n",
    "        encoder_output = self.encoder(inputs)\n",
    "        final_output = self.decoder(encoder_output)\n",
    "        return final_output"
   ]
  },
  {
   "cell_type": "code",
   "execution_count": 0,
   "metadata": {
    "colab": {},
    "colab_type": "code",
    "id": "1CTzjSCt9Fgg"
   },
   "outputs": [],
   "source": [
    "from tensorflow.keras.layers import *\n",
    "# SegmentationModel object\n",
    "model = PSPNetModel(N_CLASSES)"
   ]
  },
  {
   "cell_type": "code",
   "execution_count": 0,
   "metadata": {
    "colab": {},
    "colab_type": "code",
    "id": "byhYZrak9pOf"
   },
   "outputs": [],
   "source": [
    "# Defining a loss object and an optimizer\n",
    "loss_object = tf.keras.losses.SparseCategoricalCrossentropy()\n",
    "optimizer = tf.keras.optimizers.Adam()\n",
    "ckpt = tf.train.Checkpoint(step=tf.Variable(1), optimizer=optimizer, net=model)\n",
    "manager = tf.train.CheckpointManager(ckpt, 'tf_ckpts/', max_to_keep=3)"
   ]
  },
  {
   "cell_type": "code",
   "execution_count": 0,
   "metadata": {
    "colab": {},
    "colab_type": "code",
    "id": "2EpC2stF9nIg"
   },
   "outputs": [],
   "source": [
    "# Define the metrics\n",
    "train_loss = tf.keras.metrics.Mean('train_loss', dtype=tf.float32)\n",
    "train_accuracy = tf.keras.metrics.SparseCategoricalAccuracy('train_accuracy')\n",
    "test_loss = tf.keras.metrics.Mean('test_loss', dtype=tf.float32)\n",
    "test_accuracy = tf.keras.metrics.SparseCategoricalAccuracy('test_accuracy')"
   ]
  },
  {
   "cell_type": "code",
   "execution_count": 0,
   "metadata": {
    "colab": {},
    "colab_type": "code",
    "id": "DpLXhPka9jc0"
   },
   "outputs": [],
   "source": [
    "# Reference -> https://github.com/junhoning/machine_learning_tutorial/blob/b20b8a10438ec3e62f08f920744cc8ea854cde91/Visualization%20%26%20TensorBoard/%5BTensorBoard%5D%20Semantic%20Segmentation.ipynb\n",
    "\n",
    "@tf.function\n",
    "def train_step(model, optimizer, x_train, y_train):\n",
    "    with tf.GradientTape() as tape:\n",
    "        predictions = model(x_train, training=True)\n",
    "        loss = loss_object(y_train, predictions)\n",
    "    grads = tape.gradient(loss, model.trainable_variables)\n",
    "    optimizer.apply_gradients(zip(grads, model.trainable_variables))\n",
    "    train_loss(loss)\n",
    "    train_accuracy(y_train, predictions)\n",
    "    \n",
    "def train_and_checkpoint(model, manager, dataset, epoch):\n",
    "    ckpt.restore(manager.latest_checkpoint)\n",
    "    if manager.latest_checkpoint:\n",
    "        print(\"Restored from {}\".format(manager.latest_checkpoint))\n",
    "    else:\n",
    "        print(\"Initializing from scratch.\")\n",
    "    for (x_train, y_train) in dataset['train'].take(math.ceil(1403/8)):\n",
    "        train_step(model, optimizer, x_train, y_train)\n",
    "    ckpt.step.assign_add(1)\n",
    "    save_path = manager.save()\n",
    "    print(\"Saved checkpoint for epoch {}: {}\".format(epoch, save_path))\n",
    "    \n",
    "@tf.function\n",
    "def test_step(model, x_test, y_test):\n",
    "    predictions = model(x_test)\n",
    "    loss = loss_object(y_test, predictions)\n",
    "    test_loss(loss)\n",
    "    test_accuracy(y_test, predictions)\n",
    "    return predictions"
   ]
  },
  {
   "cell_type": "code",
   "execution_count": 0,
   "metadata": {
    "colab": {},
    "colab_type": "code",
    "id": "FMnqVwF29gZz"
   },
   "outputs": [],
   "source": [
    "train_log_dir = 'logs/gradient_tape/train'\n",
    "test_log_dir = 'logs/gradient_tape/test'\n",
    "train_summary_writer = tf.summary.create_file_writer(train_log_dir)\n",
    "test_summary_writer = tf.summary.create_file_writer(test_log_dir)"
   ]
  },
  {
   "cell_type": "code",
   "execution_count": 38,
   "metadata": {
    "colab": {
     "base_uri": "https://localhost:8080/",
     "height": 1000
    },
    "colab_type": "code",
    "executionInfo": {
     "elapsed": 19699116,
     "status": "ok",
     "timestamp": 1590400517158,
     "user": {
      "displayName": "Yash Marathe",
      "photoUrl": "https://lh3.googleusercontent.com/a-/AOh14Gj6EPAvIiS1i9njCgKxadk3hNdSQobfL9GoeVcDV7U=s64",
      "userId": "14435337237198989153"
     },
     "user_tz": -330
    },
    "id": "Cp8uAicC9ct-",
    "outputId": "d51dfaeb-0398-4210-a6a2-0011da8f3562",
    "scrolled": true
   },
   "outputs": [
    {
     "name": "stdout",
     "output_type": "stream",
     "text": [
      "Epoch  1\n",
      "Initializing from scratch.\n",
      "Saved checkpoint for epoch 1: tf_ckpts/ckpt-1\n",
      "Time taken  536.6710929870605\n",
      "Epoch 1, Loss: 1.090, Accuracy: 69.746, Val Loss: 1.460, Val Accuracy: 54.912\n",
      "Validation accuracy increased from 0.000 to 54.912. Saving model weights.\n",
      "________________________________________________________________________________\n",
      "Epoch  2\n",
      "Restored from tf_ckpts/ckpt-1\n",
      "Saved checkpoint for epoch 2: tf_ckpts/ckpt-2\n",
      "Time taken  369.5512056350708\n",
      "Epoch 2, Loss: 0.854, Accuracy: 75.022, Val Loss: 1.007, Val Accuracy: 62.973\n",
      "Validation accuracy increased from 54.912 to 62.973. Saving model weights.\n",
      "________________________________________________________________________________\n",
      "Epoch  3\n",
      "Restored from tf_ckpts/ckpt-2\n",
      "Saved checkpoint for epoch 3: tf_ckpts/ckpt-3\n",
      "Time taken  369.745728969574\n",
      "Epoch 3, Loss: 0.740, Accuracy: 76.755, Val Loss: 0.951, Val Accuracy: 67.072\n",
      "Validation accuracy increased from 62.973 to 67.072. Saving model weights.\n",
      "________________________________________________________________________________\n",
      "Epoch  4\n",
      "Restored from tf_ckpts/ckpt-3\n",
      "Saved checkpoint for epoch 4: tf_ckpts/ckpt-4\n",
      "Time taken  369.70895767211914\n",
      "Epoch 4, Loss: 0.667, Accuracy: 77.778, Val Loss: 0.733, Val Accuracy: 72.882\n",
      "Validation accuracy increased from 67.072 to 72.882. Saving model weights.\n",
      "________________________________________________________________________________\n",
      "Epoch  5\n",
      "Restored from tf_ckpts/ckpt-4\n",
      "Saved checkpoint for epoch 5: tf_ckpts/ckpt-5\n",
      "Time taken  369.71843552589417\n",
      "Epoch 5, Loss: 0.617, Accuracy: 78.528, Val Loss: 0.666, Val Accuracy: 75.900\n",
      "Validation accuracy increased from 72.882 to 75.900. Saving model weights.\n",
      "________________________________________________________________________________\n",
      "Epoch  6\n",
      "Restored from tf_ckpts/ckpt-5\n",
      "Saved checkpoint for epoch 6: tf_ckpts/ckpt-6\n",
      "Time taken  369.5676772594452\n",
      "Epoch 6, Loss: 0.577, Accuracy: 79.272, Val Loss: 0.659, Val Accuracy: 74.377\n",
      "________________________________________________________________________________\n",
      "Epoch  7\n",
      "Restored from tf_ckpts/ckpt-6\n",
      "Saved checkpoint for epoch 7: tf_ckpts/ckpt-7\n",
      "Time taken  369.8945107460022\n",
      "Epoch 7, Loss: 0.550, Accuracy: 79.756, Val Loss: 0.572, Val Accuracy: 77.859\n",
      "Validation accuracy increased from 75.900 to 77.859. Saving model weights.\n",
      "________________________________________________________________________________\n",
      "Epoch  8\n",
      "Restored from tf_ckpts/ckpt-7\n",
      "Saved checkpoint for epoch 8: tf_ckpts/ckpt-8\n",
      "Time taken  369.69074726104736\n",
      "Epoch 8, Loss: 0.529, Accuracy: 80.062, Val Loss: 0.715, Val Accuracy: 76.569\n",
      "________________________________________________________________________________\n",
      "Epoch  9\n",
      "Restored from tf_ckpts/ckpt-8\n",
      "Saved checkpoint for epoch 9: tf_ckpts/ckpt-9\n",
      "Time taken  370.32009172439575\n",
      "Epoch 9, Loss: 0.508, Accuracy: 80.583, Val Loss: 0.570, Val Accuracy: 77.246\n",
      "________________________________________________________________________________\n",
      "Epoch  10\n",
      "Restored from tf_ckpts/ckpt-9\n",
      "Saved checkpoint for epoch 10: tf_ckpts/ckpt-10\n",
      "Time taken  369.7753050327301\n",
      "Epoch 10, Loss: 0.489, Accuracy: 81.018, Val Loss: 0.611, Val Accuracy: 76.237\n",
      "________________________________________________________________________________\n",
      "Epoch  11\n",
      "Restored from tf_ckpts/ckpt-10\n",
      "Saved checkpoint for epoch 11: tf_ckpts/ckpt-11\n",
      "Time taken  369.7789888381958\n",
      "Epoch 11, Loss: 0.474, Accuracy: 81.371, Val Loss: 0.574, Val Accuracy: 77.857\n",
      "________________________________________________________________________________\n",
      "Epoch  12\n",
      "Restored from tf_ckpts/ckpt-11\n",
      "Saved checkpoint for epoch 12: tf_ckpts/ckpt-12\n",
      "Time taken  369.79249811172485\n",
      "Epoch 12, Loss: 0.460, Accuracy: 81.729, Val Loss: 0.541, Val Accuracy: 78.506\n",
      "Validation accuracy increased from 77.859 to 78.506. Saving model weights.\n",
      "________________________________________________________________________________\n",
      "Epoch  13\n",
      "Restored from tf_ckpts/ckpt-12\n",
      "Saved checkpoint for epoch 13: tf_ckpts/ckpt-13\n",
      "Time taken  370.5861704349518\n",
      "Epoch 13, Loss: 0.449, Accuracy: 82.011, Val Loss: 0.529, Val Accuracy: 79.318\n",
      "Validation accuracy increased from 78.506 to 79.318. Saving model weights.\n",
      "________________________________________________________________________________\n",
      "Epoch  14\n",
      "Restored from tf_ckpts/ckpt-13\n",
      "Saved checkpoint for epoch 14: tf_ckpts/ckpt-14\n",
      "Time taken  370.0176463127136\n",
      "Epoch 14, Loss: 0.441, Accuracy: 82.266, Val Loss: 0.548, Val Accuracy: 79.060\n",
      "________________________________________________________________________________\n",
      "Epoch  15\n",
      "Restored from tf_ckpts/ckpt-14\n",
      "Saved checkpoint for epoch 15: tf_ckpts/ckpt-15\n",
      "Time taken  369.9008708000183\n",
      "Epoch 15, Loss: 0.429, Accuracy: 82.562, Val Loss: 0.562, Val Accuracy: 77.916\n",
      "________________________________________________________________________________\n",
      "Epoch  16\n",
      "Restored from tf_ckpts/ckpt-15\n",
      "Saved checkpoint for epoch 16: tf_ckpts/ckpt-16\n",
      "Restored from tf_ckpts/ckpt-16\n",
      "Saved checkpoint for epoch 17: tf_ckpts/ckpt-17\n",
      "Time taken  369.9584410190582\n",
      "Epoch 17, Loss: 0.409, Accuracy: 83.195, Val Loss: 0.530, Val Accuracy: 78.454\n",
      "________________________________________________________________________________\n",
      "Epoch  18\n",
      "Restored from tf_ckpts/ckpt-17\n",
      "Saved checkpoint for epoch 18: tf_ckpts/ckpt-18\n",
      "Time taken  369.49140524864197\n",
      "Epoch 18, Loss: 0.403, Accuracy: 83.321, Val Loss: 0.683, Val Accuracy: 74.993\n",
      "________________________________________________________________________________\n",
      "Epoch  19\n",
      "Restored from tf_ckpts/ckpt-18\n",
      "Saved checkpoint for epoch 19: tf_ckpts/ckpt-19\n",
      "Time taken  369.81423926353455\n",
      "Epoch 19, Loss: 0.396, Accuracy: 83.578, Val Loss: 0.508, Val Accuracy: 78.695\n",
      "________________________________________________________________________________\n",
      "Epoch  20\n",
      "Restored from tf_ckpts/ckpt-19\n",
      "Saved checkpoint for epoch 20: tf_ckpts/ckpt-20\n",
      "Time taken  369.4154541492462\n",
      "Epoch 20, Loss: 0.384, Accuracy: 83.944, Val Loss: 0.556, Val Accuracy: 78.671\n",
      "________________________________________________________________________________\n",
      "Epoch  21\n",
      "Restored from tf_ckpts/ckpt-20\n",
      "Saved checkpoint for epoch 21: tf_ckpts/ckpt-21\n",
      "Time taken  369.5688090324402\n",
      "Epoch 21, Loss: 0.380, Accuracy: 84.068, Val Loss: 0.488, Val Accuracy: 79.603\n",
      "Validation accuracy increased from 79.318 to 79.603. Saving model weights.\n",
      "________________________________________________________________________________\n",
      "Epoch  22\n",
      "Restored from tf_ckpts/ckpt-21\n",
      "Saved checkpoint for epoch 22: tf_ckpts/ckpt-22\n",
      "Time taken  369.71145701408386\n",
      "Epoch 22, Loss: 0.372, Accuracy: 84.329, Val Loss: 0.492, Val Accuracy: 79.329\n",
      "________________________________________________________________________________\n",
      "Epoch  23\n",
      "Restored from tf_ckpts/ckpt-22\n",
      "Saved checkpoint for epoch 23: tf_ckpts/ckpt-23\n",
      "Time taken  369.53604888916016\n",
      "Epoch 23, Loss: 0.366, Accuracy: 84.532, Val Loss: 0.512, Val Accuracy: 79.325\n",
      "________________________________________________________________________________\n",
      "Epoch  24\n",
      "Restored from tf_ckpts/ckpt-23\n",
      "Saved checkpoint for epoch 24: tf_ckpts/ckpt-24\n",
      "Time taken  369.57596230506897\n",
      "Epoch 24, Loss: 0.357, Accuracy: 84.840, Val Loss: 0.505, Val Accuracy: 79.894\n",
      "Validation accuracy increased from 79.603 to 79.894. Saving model weights.\n",
      "________________________________________________________________________________\n",
      "Epoch  25\n",
      "Restored from tf_ckpts/ckpt-24\n",
      "Saved checkpoint for epoch 25: tf_ckpts/ckpt-25\n",
      "Time taken  369.72120428085327\n",
      "Epoch 25, Loss: 0.351, Accuracy: 85.058, Val Loss: 0.495, Val Accuracy: 79.822\n",
      "________________________________________________________________________________\n",
      "Epoch  26\n",
      "Restored from tf_ckpts/ckpt-25\n",
      "Saved checkpoint for epoch 26: tf_ckpts/ckpt-26\n",
      "Time taken  369.42082118988037\n",
      "Epoch 26, Loss: 0.347, Accuracy: 85.201, Val Loss: 0.491, Val Accuracy: 79.944\n",
      "Validation accuracy increased from 79.894 to 79.944. Saving model weights.\n",
      "________________________________________________________________________________\n",
      "Epoch  27\n",
      "Restored from tf_ckpts/ckpt-26\n",
      "Saved checkpoint for epoch 27: tf_ckpts/ckpt-27\n",
      "Time taken  369.2626802921295\n",
      "Epoch 27, Loss: 0.338, Accuracy: 85.528, Val Loss: 0.507, Val Accuracy: 79.512\n",
      "________________________________________________________________________________\n",
      "Epoch  28\n",
      "Restored from tf_ckpts/ckpt-27\n",
      "Saved checkpoint for epoch 28: tf_ckpts/ckpt-28\n",
      "Time taken  369.10767674446106\n",
      "Epoch 28, Loss: 0.331, Accuracy: 85.766, Val Loss: 0.513, Val Accuracy: 78.799\n",
      "________________________________________________________________________________\n",
      "Epoch  29\n",
      "Restored from tf_ckpts/ckpt-28\n",
      "Saved checkpoint for epoch 29: tf_ckpts/ckpt-29\n",
      "Time taken  369.30878019332886\n",
      "Epoch 29, Loss: 0.330, Accuracy: 85.776, Val Loss: 0.485, Val Accuracy: 80.282\n",
      "Validation accuracy increased from 79.944 to 80.282. Saving model weights.\n",
      "________________________________________________________________________________\n",
      "Epoch  30\n",
      "Restored from tf_ckpts/ckpt-29\n",
      "Saved checkpoint for epoch 30: tf_ckpts/ckpt-30\n",
      "Time taken  370.50267934799194\n",
      "Epoch 30, Loss: 0.324, Accuracy: 85.999, Val Loss: 0.490, Val Accuracy: 80.627\n",
      "Validation accuracy increased from 80.282 to 80.627. Saving model weights.\n",
      "________________________________________________________________________________\n",
      "Epoch  31\n",
      "Restored from tf_ckpts/ckpt-30\n",
      "Saved checkpoint for epoch 31: tf_ckpts/ckpt-31\n",
      "Time taken  369.4612946510315\n",
      "Epoch 31, Loss: 0.315, Accuracy: 86.319, Val Loss: 0.544, Val Accuracy: 78.570\n",
      "________________________________________________________________________________\n",
      "Epoch  32\n",
      "Restored from tf_ckpts/ckpt-31\n",
      "Saved checkpoint for epoch 32: tf_ckpts/ckpt-32\n",
      "Time taken  369.4574296474457\n",
      "Epoch 32, Loss: 0.311, Accuracy: 86.506, Val Loss: 0.496, Val Accuracy: 80.026\n",
      "________________________________________________________________________________\n",
      "Epoch  33\n",
      "Restored from tf_ckpts/ckpt-32\n",
      "Saved checkpoint for epoch 33: tf_ckpts/ckpt-33\n",
      "Time taken  370.2442572116852\n",
      "Epoch 33, Loss: 0.306, Accuracy: 86.700, Val Loss: 0.478, Val Accuracy: 79.940\n",
      "________________________________________________________________________________\n",
      "Epoch  34\n",
      "Restored from tf_ckpts/ckpt-33\n",
      "Saved checkpoint for epoch 34: tf_ckpts/ckpt-34\n",
      "Time taken  369.6461787223816\n",
      "Epoch 34, Loss: 0.300, Accuracy: 86.893, Val Loss: 0.488, Val Accuracy: 80.160\n",
      "________________________________________________________________________________\n",
      "Epoch  35\n",
      "Restored from tf_ckpts/ckpt-34\n",
      "Saved checkpoint for epoch 35: tf_ckpts/ckpt-35\n",
      "Time taken  369.88460779190063\n",
      "Epoch 35, Loss: 0.295, Accuracy: 87.101, Val Loss: 0.508, Val Accuracy: 79.470\n",
      "________________________________________________________________________________\n",
      "Epoch  36\n",
      "Restored from tf_ckpts/ckpt-35\n",
      "Saved checkpoint for epoch 36: tf_ckpts/ckpt-36\n",
      "Time taken  369.6610858440399\n",
      "Epoch 36, Loss: 0.289, Accuracy: 87.333, Val Loss: 0.495, Val Accuracy: 79.993\n",
      "________________________________________________________________________________\n",
      "Epoch  37\n",
      "Restored from tf_ckpts/ckpt-36\n",
      "Saved checkpoint for epoch 37: tf_ckpts/ckpt-37\n",
      "Time taken  369.9471187591553\n",
      "Epoch 37, Loss: 0.280, Accuracy: 87.657, Val Loss: 0.511, Val Accuracy: 79.582\n",
      "________________________________________________________________________________\n",
      "Epoch  38\n",
      "Restored from tf_ckpts/ckpt-37\n",
      "Saved checkpoint for epoch 38: tf_ckpts/ckpt-38\n",
      "Time taken  369.88576555252075\n",
      "Epoch 38, Loss: 0.280, Accuracy: 87.646, Val Loss: 0.526, Val Accuracy: 80.041\n",
      "________________________________________________________________________________\n",
      "Epoch  39\n",
      "Restored from tf_ckpts/ckpt-38\n",
      "Saved checkpoint for epoch 39: tf_ckpts/ckpt-39\n",
      "Time taken  369.8529589176178\n",
      "Epoch 39, Loss: 0.275, Accuracy: 87.840, Val Loss: 0.519, Val Accuracy: 80.294\n",
      "________________________________________________________________________________\n",
      "Epoch  40\n",
      "Restored from tf_ckpts/ckpt-39\n",
      "Saved checkpoint for epoch 40: tf_ckpts/ckpt-40\n",
      "Time taken  369.7159512042999\n",
      "Epoch 40, Loss: 0.268, Accuracy: 88.105, Val Loss: 0.504, Val Accuracy: 80.339\n",
      "________________________________________________________________________________\n",
      "Epoch  41\n",
      "Restored from tf_ckpts/ckpt-40\n",
      "Saved checkpoint for epoch 41: tf_ckpts/ckpt-41\n",
      "Time taken  369.8292360305786\n",
      "Epoch 41, Loss: 0.266, Accuracy: 88.180, Val Loss: 0.596, Val Accuracy: 78.757\n",
      "________________________________________________________________________________\n",
      "Epoch  42\n",
      "Restored from tf_ckpts/ckpt-41\n",
      "Saved checkpoint for epoch 42: tf_ckpts/ckpt-42\n",
      "Time taken  369.6995692253113\n",
      "Epoch 42, Loss: 0.262, Accuracy: 88.320, Val Loss: 0.580, Val Accuracy: 77.581\n",
      "________________________________________________________________________________\n",
      "Epoch  43\n",
      "Restored from tf_ckpts/ckpt-42\n",
      "Saved checkpoint for epoch 43: tf_ckpts/ckpt-43\n",
      "Time taken  369.71298575401306\n",
      "Epoch 43, Loss: 0.256, Accuracy: 88.574, Val Loss: 0.503, Val Accuracy: 80.360\n",
      "________________________________________________________________________________\n",
      "Epoch  44\n",
      "Restored from tf_ckpts/ckpt-43\n",
      "Saved checkpoint for epoch 44: tf_ckpts/ckpt-44\n",
      "Time taken  369.83980679512024\n",
      "Epoch 44, Loss: 0.251, Accuracy: 88.734, Val Loss: 0.510, Val Accuracy: 79.352\n",
      "________________________________________________________________________________\n",
      "Epoch  45\n",
      "Restored from tf_ckpts/ckpt-44\n",
      "Saved checkpoint for epoch 45: tf_ckpts/ckpt-45\n",
      "Time taken  369.7957377433777\n",
      "Epoch 45, Loss: 0.248, Accuracy: 88.847, Val Loss: 0.605, Val Accuracy: 78.630\n",
      "________________________________________________________________________________\n",
      "Epoch  46\n",
      "Restored from tf_ckpts/ckpt-45\n",
      "Saved checkpoint for epoch 46: tf_ckpts/ckpt-46\n",
      "Time taken  369.7768099308014\n",
      "Epoch 46, Loss: 0.244, Accuracy: 89.035, Val Loss: 0.501, Val Accuracy: 80.808\n",
      "Validation accuracy increased from 80.627 to 80.808. Saving model weights.\n",
      "________________________________________________________________________________\n",
      "Epoch  47\n",
      "Restored from tf_ckpts/ckpt-46\n",
      "Saved checkpoint for epoch 47: tf_ckpts/ckpt-47\n",
      "Time taken  369.9982912540436\n",
      "Epoch 47, Loss: 0.235, Accuracy: 89.327, Val Loss: 0.559, Val Accuracy: 79.679\n",
      "________________________________________________________________________________\n",
      "Epoch  48\n",
      "Restored from tf_ckpts/ckpt-47\n",
      "Saved checkpoint for epoch 48: tf_ckpts/ckpt-48\n",
      "Time taken  369.9205141067505\n",
      "Epoch 48, Loss: 0.232, Accuracy: 89.459, Val Loss: 0.516, Val Accuracy: 80.267\n",
      "________________________________________________________________________________\n",
      "Epoch  49\n",
      "Restored from tf_ckpts/ckpt-48\n",
      "Saved checkpoint for epoch 49: tf_ckpts/ckpt-49\n",
      "Time taken  369.71011447906494\n",
      "Epoch 49, Loss: 0.226, Accuracy: 89.669, Val Loss: 0.510, Val Accuracy: 80.169\n",
      "________________________________________________________________________________\n",
      "Epoch  50\n",
      "Restored from tf_ckpts/ckpt-49\n",
      "Saved checkpoint for epoch 50: tf_ckpts/ckpt-50\n",
      "Time taken  369.72662925720215\n",
      "Epoch 50, Loss: 0.223, Accuracy: 89.764, Val Loss: 0.586, Val Accuracy: 79.387\n",
      "________________________________________________________________________________\n"
     ]
    }
   ],
   "source": [
    "# This variable will help to save the best model if its performance increases after an epoch   \n",
    "highest_accuracy = 0\n",
    "\n",
    "# Training the model for 40 epochs\n",
    "for epoch in range(50):\n",
    "\n",
    "    print(\"Epoch \",epoch+1)\n",
    "    \n",
    "    # Getting the current time before starting the training\n",
    "    # This will help to keep track of how much time an epoch took\n",
    "    start = time.time()\n",
    "    \n",
    "    train_and_checkpoint(model, manager, dataset, epoch+1)\n",
    "    \n",
    "    # Saving the train loss and train accuracy metric for TensorBoard visualization\n",
    "    with train_summary_writer.as_default():\n",
    "        tf.summary.scalar('loss', train_loss.result(), step=ckpt.step.numpy())\n",
    "        tf.summary.scalar('accuracy', train_accuracy.result(), step=ckpt.step.numpy())\n",
    "    \n",
    "    # Validation phase\n",
    "    for (x_test, y_test) in dataset['val'].take(math.ceil(204/8)):\n",
    "        pred = test_step(model, x_test, y_test)\n",
    "    \n",
    "    # Saving the validation loss and validation accuracy metric for Tensorboard visualization\n",
    "    with test_summary_writer.as_default():\n",
    "        tf.summary.scalar('loss', test_loss.result(), step=ckpt.step.numpy())\n",
    "        tf.summary.scalar('accuracy', test_accuracy.result(), step=ckpt.step.numpy())\n",
    "    \n",
    "    # Calculating the time it took for the entire epoch to run\n",
    "    print(\"Time taken \",time.time()-start)\n",
    "    \n",
    "    # Printing the metrics for the epoch\n",
    "    template = 'Epoch {}, Loss: {:.3f}, Accuracy: {:.3f}, Val Loss: {:.3f}, Val Accuracy: {:.3f}'\n",
    "    print (template.format(epoch+1,\n",
    "                            train_loss.result(), \n",
    "                            train_accuracy.result()*100,\n",
    "                            test_loss.result(), \n",
    "                            test_accuracy.result()*100))\n",
    "    \n",
    "    # If accuracy has increased in this epoch, updating the highest accuracy and saving the model\n",
    "    if(test_accuracy.result().numpy()*100>highest_accuracy):\n",
    "        print(\"Validation accuracy increased from {:.3f} to {:.3f}. Saving model weights.\".format(highest_accuracy,test_accuracy.result().numpy()*100))\n",
    "        highest_accuracy = test_accuracy.result().numpy()*100\n",
    "        model.save_weights('pspnet_weights-epoch-{}.hdf5'.format(epoch+1))\n",
    "\n",
    "    print('_'*80)\n",
    "\n",
    "    # Reset metrics after every epoch\n",
    "    train_loss.reset_states()\n",
    "    test_loss.reset_states()\n",
    "    train_accuracy.reset_states()\n",
    "    test_accuracy.reset_states()"
   ]
  },
  {
   "cell_type": "code",
   "execution_count": 1,
   "metadata": {},
   "outputs": [
    {
     "data": {
      "image/png": "[encoded data removed]",
      "text/plain": [
       "<IPython.core.display.Image object>"
      ]
     },
     "metadata": {},
     "output_type": "display_data"
    }
   ],
   "source": [
    "from IPython.core.display import Image, display\n",
    "display(Image('From scratch.png'))"
   ]
  },
  {
   "cell_type": "code",
   "execution_count": 0,
   "metadata": {
    "colab": {},
    "colab_type": "code",
    "id": "E5w80STlIPu-"
   },
   "outputs": [],
   "source": [
    "# Loading the weights of the best model\n",
    "model.load_weights('pspnet_weights-epoch-46.hdf5')"
   ]
  },
  {
   "cell_type": "code",
   "execution_count": 0,
   "metadata": {
    "colab": {},
    "colab_type": "code",
    "id": "HcxMwQOMxW75"
   },
   "outputs": [],
   "source": [
    "def predict(model,image_path):\n",
    "    \"\"\"\n",
    "    This function will take the model which is going to be used to predict the image and the image path of \n",
    "    the input image as inputs and predict the mask\n",
    "    It returns the true mask and predicted mask\n",
    "    \"\"\"\n",
    "    # Getting the datapoint\n",
    "    # This function will load the image and its annotation (mask) and return a dictionary.\n",
    "    datapoint = parse_image(image_path)\n",
    "    # Normalizing the resizing the datapoint\n",
    "    input_image,image_mask = load_image_test(datapoint)\n",
    "    # As the model takes input with 4 dimensions (batch_size, rows, columns, channels),\n",
    "    # and the shape of the input image is (rows, columns, channels)\n",
    "    # we will expand the first dimension so we will get the shape as  (1, rows, columns, channels)\n",
    "    img = tf.expand_dims(input_image, 0)\n",
    "    # Predicting the image by passing it to the model\n",
    "    prediction = model(img)\n",
    "    # The model will predict 8 outputs for each pixel\n",
    "    # We have to get the maximum value out of it\n",
    "    prediction = tf.argmax(prediction, axis=-1)\n",
    "    prediction = tf.squeeze(prediction, axis = 0)\n",
    "    pred_mask = tf.expand_dims(prediction, axis=-1)\n",
    "    # Displaying the input image, true mask, predicted mask\n",
    "    #display_sample([input_image, image_mask, pred_mask])\n",
    "    return image_mask, pred_mask"
   ]
  },
  {
   "cell_type": "code",
   "execution_count": 0,
   "metadata": {
    "colab": {},
    "colab_type": "code",
    "id": "bdb_IrorxkXN"
   },
   "outputs": [],
   "source": [
    "# Reference -> https://github.com/saisandeepNSS/IDD_SemanticSegmentation\n",
    "\n",
    "def IoU(y_i,y_pred):\n",
    "    # This function calculates the mean Intersection over Union\n",
    "    # Mean IoU = TP/(FN + TP + FP)\n",
    "    # This list will save the IoU of all the classes\n",
    "    IoUs = []\n",
    "    # Defining the number of classes which the model has predicted\n",
    "    n_classes = 8\n",
    "    for c in range(n_classes):\n",
    "        # Calculating the True Positives\n",
    "        TP = np.sum((y_i == c)&(y_pred==c))\n",
    "        # Calculating the False Positives\n",
    "        FP = np.sum((y_i != c)&(y_pred==c))\n",
    "        # Calculating the False Negatives\n",
    "        FN = np.sum((y_i == c)&(y_pred!= c))\n",
    "        # Calculating the IoU for the particular class\n",
    "        IoU = TP/float(TP + FP + FN)\n",
    "        # Printing the outputs\n",
    "        # Uncomment the print statement below when you want to analyze the results for each class\n",
    "        #print(\"class {:02.0f}: #TP={:6.0f}, #FP={:6.0f}, #FN={:5.0f}, IoU={:4.3f}\".format(c,TP,FP,FN,IoU))\n",
    "        # Appending the IoU to the list as it mean needs to be calculated later\n",
    "        if(math.isnan(IoU)):\n",
    "            IoUs.append(0)\n",
    "            continue\n",
    "        IoUs.append(IoU)\n",
    "    # Calculating the mean\n",
    "    mIoU = np.mean(IoUs)\n",
    "    #print(\"_________________\")\n",
    "    #print(\"Mean IoU: {:4.3f}\".format(mIoU))\n",
    "    return mIoU"
   ]
  },
  {
   "cell_type": "markdown",
   "metadata": {
    "colab_type": "text",
    "id": "_K0m_pvx0FiD"
   },
   "source": [
    "### Validation mIoU for PSPNet from scratch"
   ]
  },
  {
   "cell_type": "code",
   "execution_count": 0,
   "metadata": {
    "colab": {},
    "colab_type": "code",
    "id": "J6ERQK1g_RAk"
   },
   "outputs": [],
   "source": [
    "img_val = dataset_path + 'leftImg8bit/val/'\n",
    "val_paths = glob(img_val+'*/*_image.jpg')"
   ]
  },
  {
   "cell_type": "code",
   "execution_count": 0,
   "metadata": {
    "colab": {},
    "colab_type": "code",
    "id": "ugUHIIqfz7du"
   },
   "outputs": [],
   "source": [
    "mIoU = []\n",
    "for path in val_paths:\n",
    "    true_mask, pred_mask = predict(model,path)\n",
    "    mIoU.append(IoU(true_mask, pred_mask))"
   ]
  },
  {
   "cell_type": "code",
   "execution_count": 48,
   "metadata": {
    "colab": {
     "base_uri": "https://localhost:8080/",
     "height": 34
    },
    "colab_type": "code",
    "executionInfo": {
     "elapsed": 1491,
     "status": "ok",
     "timestamp": 1590400610204,
     "user": {
      "displayName": "Yash Marathe",
      "photoUrl": "https://lh3.googleusercontent.com/a-/AOh14Gj6EPAvIiS1i9njCgKxadk3hNdSQobfL9GoeVcDV7U=s64",
      "userId": "14435337237198989153"
     },
     "user_tz": -330
    },
    "id": "k43_RFJgz9Af",
    "outputId": "4a9da12a-6758-4518-e94e-5a3364312722"
   },
   "outputs": [
    {
     "name": "stdout",
     "output_type": "stream",
     "text": [
      "Validation mIoU =  0.4333882146774802\n"
     ]
    }
   ],
   "source": [
    "print(\"Validation mIoU = \",sum(mIoU)/len(mIoU))"
   ]
  },
  {
   "cell_type": "markdown",
   "metadata": {},
   "source": [
    "# PSPNet with a pretrained Encoder"
   ]
  },
  {
   "cell_type": "code",
   "execution_count": 0,
   "metadata": {
    "colab": {},
    "colab_type": "code",
    "id": "nAnfsJb7m_ka"
   },
   "outputs": [],
   "source": [
    "from tensorflow.keras.applications.resnet50 import ResNet50"
   ]
  },
  {
   "cell_type": "code",
   "execution_count": 0,
   "metadata": {
    "colab": {},
    "colab_type": "code",
    "id": "HtEBVUAFIPuG"
   },
   "outputs": [],
   "source": [
    "# This class returns the pyramid feature map for Pyramid Pooling module\n",
    "# Pooling -> Convolution -> UpSampling\n",
    "class PyramidFeatureMap(tf.keras.Model):\n",
    "    \n",
    "    def __init__(self, block, filter_size, unsampling_size, pool_size, interpolation='bilinear'):\n",
    "        super(PyramidFeatureMap, self).__init__()\n",
    "        self.block = block\n",
    "        self.convolution_layer = Convolution2D(filter_size, kernel_size = (1,1))\n",
    "        self.upsampling_layer = UpSampling2D(unsampling_size, interpolation = interpolation)\n",
    "        self.average_pooling = AveragePooling2D(pool_size)\n",
    "        self.global_average_pooling = GlobalAveragePooling2D()\n",
    "        \n",
    "    def call(self,inputs):\n",
    "        if(self.block=='red'):\n",
    "            pool_output = self.global_average_pooling(inputs)\n",
    "            pool_output = Reshape((1,1,2048))(pool_output)\n",
    "        else:\n",
    "            pool_output = self.average_pooling(inputs)\n",
    "        conv_output = self.convolution_layer(pool_output)\n",
    "        upsampling_output = self.upsampling_layer(conv_output)\n",
    "        return upsampling_output        "
   ]
  },
  {
   "cell_type": "code",
   "execution_count": 0,
   "metadata": {
    "colab": {},
    "colab_type": "code",
    "id": "gp5p-eeQIPuJ"
   },
   "outputs": [],
   "source": [
    "# This class builds the Pyramid Pooling Module\n",
    "# It builds the 4 feature maps and then concatenates all of them with the input\n",
    "class PyramidPoolingModule(tf.keras.Model):\n",
    "    \n",
    "    def __init__(self):\n",
    "        super(PyramidPoolingModule, self).__init__()\n",
    "        self.block_red = PyramidFeatureMap('red', 64, 8, (1,1))\n",
    "        self.block_yellow = PyramidFeatureMap('yellow', 64, 2, (2,2))\n",
    "        self.block_blue = PyramidFeatureMap('blue', 64, 4, (3,3))\n",
    "        self.block_green = PyramidFeatureMap('green', 64, 8, (6,6))\n",
    "        \n",
    "    def call(self,inputs):\n",
    "        red_output = self.block_red(inputs)\n",
    "        yellow_output = self.block_yellow(inputs)\n",
    "        blue_output = self.block_blue(inputs)\n",
    "        green_output = self.block_green(inputs)\n",
    "        merged = concatenate([inputs, red_output, yellow_output, blue_output, green_output])\n",
    "        return merged  "
   ]
  },
  {
   "cell_type": "code",
   "execution_count": 0,
   "metadata": {
    "colab": {},
    "colab_type": "code",
    "id": "xKlKJ5SVIPuL"
   },
   "outputs": [],
   "source": [
    "# This block is for the last stage\n",
    "# It gets the output of Pyramid Pooling Module and then performs convolution operation\n",
    "# Pyramid Pooling -> Convolution -> Batch Normalization -> Softmax activation\n",
    "class DecoderBlock(tf.keras.Model):\n",
    "    \n",
    "    def __init__(self, num_classes):\n",
    "        super(DecoderBlock, self).__init__()\n",
    "        self.pyramid_pooling_module = PyramidPoolingModule()\n",
    "        self.convolution_layer = Convolution2D(num_classes, kernel_size = (3,3), padding = 'same')\n",
    "        self.batch_norm_layer = BatchNormalization()\n",
    "        self.activation = Activation('softmax')\n",
    "    \n",
    "    def call(self, inputs):\n",
    "        merged = self.pyramid_pooling_module(inputs)\n",
    "        conv_output = self.convolution_layer(merged)\n",
    "        norm_output = self.batch_norm_layer(conv_output)\n",
    "        output = self.activation(norm_output)\n",
    "        return output"
   ]
  },
  {
   "cell_type": "code",
   "execution_count": 0,
   "metadata": {
    "colab": {},
    "colab_type": "code",
    "id": "2SKIp8d7IPuN"
   },
   "outputs": [],
   "source": [
    "#This final class for the Model\n",
    "class PSPNetModel(tf.keras.Model):\n",
    "    \n",
    "    def __init__(self, num_classes):\n",
    "        super(PSPNetModel, self).__init__()\n",
    "        self.resnet = ResNet50(weights='imagenet', include_top = False, input_shape = (128,128,3))\n",
    "        for layer in self.resnet.layers:\n",
    "            layer.trainable = False\n",
    "        self.upsampling_encoder = UpSampling2D(size=(2,2), interpolation='bilinear')\n",
    "        self.upsampling = UpSampling2D(size=(16,16), interpolation='bilinear')\n",
    "        self.decoder = DecoderBlock(num_classes)\n",
    "        \n",
    "    def call(self, inputs):\n",
    "        encoder_output = self.resnet(inputs)\n",
    "        encoder_output = self.upsampling_encoder(encoder_output)\n",
    "        decoder_output = self.decoder(encoder_output)\n",
    "        final_output = self.upsampling(decoder_output)\n",
    "        return final_output"
   ]
  },
  {
   "cell_type": "code",
   "execution_count": 31,
   "metadata": {
    "colab": {
     "base_uri": "https://localhost:8080/",
     "height": 50
    },
    "colab_type": "code",
    "id": "1CTzjSCt9Fgg",
    "outputId": "c3e003bd-a6cf-44a1-b798-dec280c5340e"
   },
   "outputs": [
    {
     "name": "stdout",
     "output_type": "stream",
     "text": [
      "Downloading data from https://storage.googleapis.com/tensorflow/keras-applications/resnet/resnet50_weights_tf_dim_ordering_tf_kernels_notop.h5\n",
      "94773248/94765736 [==============================] - 1s 0us/step\n"
     ]
    }
   ],
   "source": [
    "from tensorflow.keras.layers import *\n",
    "# SegmentationModel object\n",
    "model = PSPNetModel(N_CLASSES)"
   ]
  },
  {
   "cell_type": "code",
   "execution_count": 0,
   "metadata": {
    "colab": {},
    "colab_type": "code",
    "id": "byhYZrak9pOf"
   },
   "outputs": [],
   "source": [
    "# Defining a loss object and an optimizer\n",
    "loss_object = tf.keras.losses.SparseCategoricalCrossentropy()\n",
    "optimizer = tf.keras.optimizers.Adam()\n",
    "ckpt = tf.train.Checkpoint(step=tf.Variable(1), optimizer=optimizer, net=model)\n",
    "manager = tf.train.CheckpointManager(ckpt, 'tf_ckpts/', max_to_keep=3)"
   ]
  },
  {
   "cell_type": "code",
   "execution_count": 0,
   "metadata": {
    "colab": {},
    "colab_type": "code",
    "id": "2EpC2stF9nIg"
   },
   "outputs": [],
   "source": [
    "# Define the metrics\n",
    "train_loss = tf.keras.metrics.Mean('train_loss', dtype=tf.float32)\n",
    "train_accuracy = tf.keras.metrics.SparseCategoricalAccuracy('train_accuracy')\n",
    "test_loss = tf.keras.metrics.Mean('test_loss', dtype=tf.float32)\n",
    "test_accuracy = tf.keras.metrics.SparseCategoricalAccuracy('test_accuracy')"
   ]
  },
  {
   "cell_type": "code",
   "execution_count": 0,
   "metadata": {
    "colab": {},
    "colab_type": "code",
    "id": "DpLXhPka9jc0"
   },
   "outputs": [],
   "source": [
    "# Reference -> https://github.com/junhoning/machine_learning_tutorial/blob/b20b8a10438ec3e62f08f920744cc8ea854cde91/Visualization%20%26%20TensorBoard/%5BTensorBoard%5D%20Semantic%20Segmentation.ipynb\n",
    "\n",
    "@tf.function\n",
    "def train_step(model, optimizer, x_train, y_train):\n",
    "    with tf.GradientTape() as tape:\n",
    "        predictions = model(x_train, training=True)\n",
    "        loss = loss_object(y_train, predictions)\n",
    "    grads = tape.gradient(loss, model.trainable_variables)\n",
    "    optimizer.apply_gradients(zip(grads, model.trainable_variables))\n",
    "    train_loss(loss)\n",
    "    train_accuracy(y_train, predictions)\n",
    "    \n",
    "def train_and_checkpoint(model, manager, dataset, epoch):\n",
    "    '''\n",
    "    ckpt.restore(manager.latest_checkpoint)\n",
    "    if manager.latest_checkpoint:\n",
    "        print(\"Restored from {}\".format(manager.latest_checkpoint))\n",
    "    else:\n",
    "        print(\"Initializing from scratch.\")'''\n",
    "    for (x_train, y_train) in dataset['train'].take(math.ceil(1403/16)):\n",
    "        train_step(model, optimizer, x_train, y_train)\n",
    "    ckpt.step.assign_add(1)\n",
    "    save_path = manager.save()\n",
    "    print(\"Saved checkpoint for epoch {}: {}\".format(epoch, save_path))\n",
    "    \n",
    "@tf.function\n",
    "def test_step(model, x_test, y_test):\n",
    "    predictions = model(x_test)\n",
    "    loss = loss_object(y_test, predictions)\n",
    "    test_loss(loss)\n",
    "    test_accuracy(y_test, predictions)\n",
    "    return predictions"
   ]
  },
  {
   "cell_type": "code",
   "execution_count": 0,
   "metadata": {
    "colab": {},
    "colab_type": "code",
    "id": "FMnqVwF29gZz"
   },
   "outputs": [],
   "source": [
    "train_log_dir = 'logs/gradient_tape/train'\n",
    "test_log_dir = 'logs/gradient_tape/test'\n",
    "train_summary_writer = tf.summary.create_file_writer(train_log_dir)\n",
    "test_summary_writer = tf.summary.create_file_writer(test_log_dir)"
   ]
  },
  {
   "cell_type": "code",
   "execution_count": 36,
   "metadata": {
    "colab": {
     "base_uri": "https://localhost:8080/",
     "height": 1000
    },
    "colab_type": "code",
    "id": "Cp8uAicC9ct-",
    "outputId": "ce3ca4ed-6aa9-4237-dbdc-b03f63be18ca",
    "scrolled": true
   },
   "outputs": [
    {
     "name": "stdout",
     "output_type": "stream",
     "text": [
      "Epoch  1\n",
      "Saved checkpoint for epoch 1: tf_ckpts/ckpt-1\n",
      "Time taken  149.11251425743103\n",
      "Epoch 1, Loss: 1.394, Accuracy: 55.585, Val Loss: 1.460, Val Accuracy: 54.677\n",
      "Validation accuracy increased from 0.000 to 54.677. Saving model weights.\n",
      "________________________________________________________________________________\n",
      "Epoch  2\n",
      "Saved checkpoint for epoch 2: tf_ckpts/ckpt-2\n",
      "Time taken  16.028855085372925\n",
      "Epoch 2, Loss: 1.221, Accuracy: 62.013, Val Loss: 1.427, Val Accuracy: 59.198\n",
      "Validation accuracy increased from 54.677 to 59.198. Saving model weights.\n",
      "________________________________________________________________________________\n",
      "Epoch  3\n",
      "Saved checkpoint for epoch 3: tf_ckpts/ckpt-3\n",
      "Time taken  15.578563928604126\n",
      "Epoch 3, Loss: 1.138, Accuracy: 64.131, Val Loss: 1.174, Val Accuracy: 62.812\n",
      "Validation accuracy increased from 59.198 to 62.812. Saving model weights.\n",
      "________________________________________________________________________________\n",
      "Epoch  4\n",
      "Saved checkpoint for epoch 4: tf_ckpts/ckpt-4\n",
      "Time taken  15.722007989883423\n",
      "Epoch 4, Loss: 1.078, Accuracy: 65.260, Val Loss: 1.171, Val Accuracy: 60.775\n",
      "________________________________________________________________________________\n",
      "Epoch  5\n",
      "Saved checkpoint for epoch 5: tf_ckpts/ckpt-5\n",
      "Time taken  15.691949129104614\n",
      "Epoch 5, Loss: 1.033, Accuracy: 65.989, Val Loss: 1.020, Val Accuracy: 65.666\n",
      "Validation accuracy increased from 62.812 to 65.666. Saving model weights.\n",
      "________________________________________________________________________________\n",
      "Epoch  6\n",
      "Saved checkpoint for epoch 6: tf_ckpts/ckpt-6\n",
      "Time taken  15.728700399398804\n",
      "Epoch 6, Loss: 1.003, Accuracy: 66.277, Val Loss: 1.038, Val Accuracy: 65.116\n",
      "________________________________________________________________________________\n",
      "Epoch  7\n",
      "Saved checkpoint for epoch 7: tf_ckpts/ckpt-7\n",
      "Time taken  15.54090428352356\n",
      "Epoch 7, Loss: 0.974, Accuracy: 66.680, Val Loss: 1.020, Val Accuracy: 64.911\n",
      "________________________________________________________________________________\n",
      "Epoch  8\n",
      "Saved checkpoint for epoch 8: tf_ckpts/ckpt-8\n",
      "Time taken  15.64806342124939\n",
      "Epoch 8, Loss: 0.953, Accuracy: 67.045, Val Loss: 1.012, Val Accuracy: 65.984\n",
      "Validation accuracy increased from 65.666 to 65.984. Saving model weights.\n",
      "________________________________________________________________________________\n",
      "Epoch  9\n",
      "Saved checkpoint for epoch 9: tf_ckpts/ckpt-9\n",
      "Time taken  15.501430034637451\n",
      "Epoch 9, Loss: 0.932, Accuracy: 67.405, Val Loss: 1.059, Val Accuracy: 60.744\n",
      "________________________________________________________________________________\n",
      "Epoch  10\n",
      "Saved checkpoint for epoch 10: tf_ckpts/ckpt-10\n",
      "Time taken  15.62389349937439\n",
      "Epoch 10, Loss: 0.921, Accuracy: 67.473, Val Loss: 0.959, Val Accuracy: 65.407\n",
      "________________________________________________________________________________\n",
      "Epoch  11\n",
      "Saved checkpoint for epoch 11: tf_ckpts/ckpt-11\n",
      "Time taken  16.093995809555054\n",
      "Epoch 11, Loss: 0.905, Accuracy: 67.677, Val Loss: 0.957, Val Accuracy: 65.265\n",
      "________________________________________________________________________________\n",
      "Epoch  12\n",
      "Saved checkpoint for epoch 12: tf_ckpts/ckpt-12\n",
      "Time taken  15.527312994003296\n",
      "Epoch 12, Loss: 0.899, Accuracy: 67.652, Val Loss: 0.933, Val Accuracy: 66.574\n",
      "Validation accuracy increased from 65.984 to 66.574. Saving model weights.\n",
      "________________________________________________________________________________\n",
      "Epoch  13\n",
      "Saved checkpoint for epoch 13: tf_ckpts/ckpt-13\n",
      "Time taken  15.62586760520935\n",
      "Epoch 13, Loss: 0.892, Accuracy: 67.716, Val Loss: 0.993, Val Accuracy: 63.986\n",
      "________________________________________________________________________________\n",
      "Epoch  14\n",
      "Saved checkpoint for epoch 14: tf_ckpts/ckpt-14\n",
      "Time taken  15.702118873596191\n",
      "Epoch 14, Loss: 0.882, Accuracy: 67.901, Val Loss: 0.969, Val Accuracy: 64.257\n",
      "________________________________________________________________________________\n",
      "Epoch  15\n",
      "Saved checkpoint for epoch 15: tf_ckpts/ckpt-15\n",
      "Time taken  15.751192808151245\n",
      "Epoch 15, Loss: 0.873, Accuracy: 68.081, Val Loss: 0.997, Val Accuracy: 62.916\n",
      "________________________________________________________________________________\n",
      "Epoch  16\n",
      "Saved checkpoint for epoch 16: tf_ckpts/ckpt-16\n",
      "Time taken  15.61250925064087\n",
      "Epoch 16, Loss: 0.868, Accuracy: 68.091, Val Loss: 0.972, Val Accuracy: 64.770\n",
      "________________________________________________________________________________\n",
      "Epoch  17\n",
      "Saved checkpoint for epoch 17: tf_ckpts/ckpt-17\n",
      "Time taken  16.88481593132019\n",
      "Epoch 17, Loss: 0.864, Accuracy: 68.109, Val Loss: 0.949, Val Accuracy: 64.889\n",
      "________________________________________________________________________________\n",
      "Epoch  18\n",
      "Saved checkpoint for epoch 18: tf_ckpts/ckpt-18\n",
      "Time taken  16.073933839797974\n",
      "Epoch 18, Loss: 0.859, Accuracy: 68.183, Val Loss: 0.944, Val Accuracy: 65.697\n",
      "________________________________________________________________________________\n",
      "Epoch  19\n",
      "Saved checkpoint for epoch 19: tf_ckpts/ckpt-19\n",
      "Time taken  15.60778522491455\n",
      "Epoch 19, Loss: 0.854, Accuracy: 68.243, Val Loss: 0.966, Val Accuracy: 64.328\n",
      "________________________________________________________________________________\n",
      "Epoch  20\n",
      "Saved checkpoint for epoch 20: tf_ckpts/ckpt-20\n",
      "Time taken  15.662072658538818\n",
      "Epoch 20, Loss: 0.850, Accuracy: 68.507, Val Loss: 0.934, Val Accuracy: 65.823\n",
      "________________________________________________________________________________\n",
      "Epoch  21\n",
      "Saved checkpoint for epoch 21: tf_ckpts/ckpt-21\n",
      "Time taken  15.63362169265747\n",
      "Epoch 21, Loss: 0.845, Accuracy: 68.471, Val Loss: 1.002, Val Accuracy: 65.339\n",
      "________________________________________________________________________________\n",
      "Epoch  22\n",
      "Saved checkpoint for epoch 22: tf_ckpts/ckpt-22\n",
      "Time taken  15.707608938217163\n",
      "Epoch 22, Loss: 0.840, Accuracy: 68.597, Val Loss: 0.902, Val Accuracy: 66.334\n",
      "________________________________________________________________________________\n",
      "Epoch  23\n",
      "Saved checkpoint for epoch 23: tf_ckpts/ckpt-23\n",
      "Time taken  15.754493236541748\n",
      "Epoch 23, Loss: 0.841, Accuracy: 68.551, Val Loss: 0.881, Val Accuracy: 66.321\n",
      "________________________________________________________________________________\n",
      "Epoch  24\n",
      "Saved checkpoint for epoch 24: tf_ckpts/ckpt-24\n",
      "Time taken  15.570069551467896\n",
      "Epoch 24, Loss: 0.838, Accuracy: 68.605, Val Loss: 0.978, Val Accuracy: 63.592\n",
      "________________________________________________________________________________\n",
      "Epoch  25\n",
      "Saved checkpoint for epoch 25: tf_ckpts/ckpt-25\n",
      "Time taken  15.65001916885376\n",
      "Epoch 25, Loss: 0.835, Accuracy: 68.580, Val Loss: 1.054, Val Accuracy: 59.407\n",
      "________________________________________________________________________________\n",
      "Epoch  26\n",
      "Saved checkpoint for epoch 26: tf_ckpts/ckpt-26\n",
      "Time taken  15.679100513458252\n",
      "Epoch 26, Loss: 0.829, Accuracy: 68.805, Val Loss: 0.899, Val Accuracy: 66.065\n",
      "________________________________________________________________________________\n",
      "Epoch  27\n",
      "Saved checkpoint for epoch 27: tf_ckpts/ckpt-27\n",
      "Time taken  15.687546491622925\n",
      "Epoch 27, Loss: 0.830, Accuracy: 68.744, Val Loss: 1.020, Val Accuracy: 64.661\n",
      "________________________________________________________________________________\n",
      "Epoch  28\n",
      "Saved checkpoint for epoch 28: tf_ckpts/ckpt-28\n",
      "Time taken  15.585858345031738\n",
      "Epoch 28, Loss: 0.826, Accuracy: 68.820, Val Loss: 1.008, Val Accuracy: 62.437\n",
      "________________________________________________________________________________\n",
      "Epoch  29\n",
      "Saved checkpoint for epoch 29: tf_ckpts/ckpt-29\n",
      "Time taken  15.7490975856781\n",
      "Epoch 29, Loss: 0.824, Accuracy: 68.816, Val Loss: 0.939, Val Accuracy: 64.183\n",
      "________________________________________________________________________________\n",
      "Epoch  30\n",
      "Saved checkpoint for epoch 30: tf_ckpts/ckpt-30\n",
      "Time taken  16.351605653762817\n",
      "Epoch 30, Loss: 0.825, Accuracy: 68.682, Val Loss: 0.997, Val Accuracy: 63.482\n",
      "________________________________________________________________________________\n",
      "Epoch  31\n",
      "Saved checkpoint for epoch 31: tf_ckpts/ckpt-31\n",
      "Time taken  15.626446723937988\n",
      "Epoch 31, Loss: 0.821, Accuracy: 68.848, Val Loss: 0.953, Val Accuracy: 62.231\n",
      "________________________________________________________________________________\n",
      "Epoch  32\n",
      "Saved checkpoint for epoch 32: tf_ckpts/ckpt-32\n",
      "Time taken  15.691220045089722\n",
      "Epoch 32, Loss: 0.816, Accuracy: 68.969, Val Loss: 1.084, Val Accuracy: 60.908\n",
      "________________________________________________________________________________\n",
      "Epoch  33\n",
      "Saved checkpoint for epoch 33: tf_ckpts/ckpt-33\n",
      "Time taken  15.553666830062866\n",
      "Epoch 33, Loss: 0.819, Accuracy: 68.921, Val Loss: 0.877, Val Accuracy: 66.719\n",
      "Validation accuracy increased from 66.574 to 66.719. Saving model weights.\n",
      "________________________________________________________________________________\n",
      "Epoch  34\n",
      "Saved checkpoint for epoch 34: tf_ckpts/ckpt-34\n",
      "Time taken  15.486215829849243\n",
      "Epoch 34, Loss: 0.817, Accuracy: 68.874, Val Loss: 0.875, Val Accuracy: 66.760\n",
      "Validation accuracy increased from 66.719 to 66.760. Saving model weights.\n",
      "________________________________________________________________________________\n",
      "Epoch  35\n",
      "Saved checkpoint for epoch 35: tf_ckpts/ckpt-35\n",
      "Time taken  15.674844026565552\n",
      "Epoch 35, Loss: 0.815, Accuracy: 68.946, Val Loss: 0.894, Val Accuracy: 65.700\n",
      "________________________________________________________________________________\n",
      "Epoch  36\n",
      "Saved checkpoint for epoch 36: tf_ckpts/ckpt-36\n",
      "Time taken  15.601009130477905\n",
      "Epoch 36, Loss: 0.812, Accuracy: 68.951, Val Loss: 1.070, Val Accuracy: 59.439\n",
      "________________________________________________________________________________\n",
      "Epoch  37\n",
      "Saved checkpoint for epoch 37: tf_ckpts/ckpt-37\n",
      "Time taken  16.514562845230103\n",
      "Epoch 37, Loss: 0.810, Accuracy: 69.147, Val Loss: 0.937, Val Accuracy: 65.814\n",
      "________________________________________________________________________________\n",
      "Epoch  38\n",
      "Saved checkpoint for epoch 38: tf_ckpts/ckpt-38\n",
      "Time taken  15.654868125915527\n",
      "Epoch 38, Loss: 0.810, Accuracy: 69.124, Val Loss: 0.920, Val Accuracy: 65.261\n",
      "________________________________________________________________________________\n",
      "Epoch  39\n",
      "Saved checkpoint for epoch 39: tf_ckpts/ckpt-39\n",
      "Time taken  15.550936222076416\n",
      "Epoch 39, Loss: 0.809, Accuracy: 69.159, Val Loss: 1.018, Val Accuracy: 62.995\n",
      "________________________________________________________________________________\n",
      "Epoch  40\n",
      "Saved checkpoint for epoch 40: tf_ckpts/ckpt-40\n",
      "Time taken  15.700876474380493\n",
      "Epoch 40, Loss: 0.808, Accuracy: 69.108, Val Loss: 1.003, Val Accuracy: 63.835\n",
      "________________________________________________________________________________\n",
      "Epoch  41\n",
      "Saved checkpoint for epoch 41: tf_ckpts/ckpt-41\n",
      "Time taken  15.793383836746216\n",
      "Epoch 41, Loss: 0.806, Accuracy: 69.137, Val Loss: 0.879, Val Accuracy: 66.739\n",
      "________________________________________________________________________________\n",
      "Epoch  42\n",
      "Saved checkpoint for epoch 42: tf_ckpts/ckpt-42\n",
      "Time taken  15.5836501121521\n",
      "Epoch 42, Loss: 0.807, Accuracy: 69.103, Val Loss: 0.999, Val Accuracy: 63.663\n",
      "________________________________________________________________________________\n",
      "Epoch  43\n",
      "Saved checkpoint for epoch 43: tf_ckpts/ckpt-43\n",
      "Time taken  15.58218789100647\n",
      "Epoch 43, Loss: 0.805, Accuracy: 69.162, Val Loss: 0.994, Val Accuracy: 62.276\n",
      "________________________________________________________________________________\n",
      "Epoch  44\n",
      "Saved checkpoint for epoch 44: tf_ckpts/ckpt-44\n",
      "Time taken  15.774079084396362\n",
      "Epoch 44, Loss: 0.806, Accuracy: 69.167, Val Loss: 0.925, Val Accuracy: 64.934\n",
      "________________________________________________________________________________\n",
      "Epoch  45\n",
      "Saved checkpoint for epoch 45: tf_ckpts/ckpt-45\n",
      "Time taken  15.597075700759888\n",
      "Epoch 45, Loss: 0.803, Accuracy: 69.263, Val Loss: 0.932, Val Accuracy: 64.221\n",
      "________________________________________________________________________________\n",
      "Epoch  46\n",
      "Saved checkpoint for epoch 46: tf_ckpts/ckpt-46\n",
      "Time taken  15.543456077575684\n",
      "Epoch 46, Loss: 0.801, Accuracy: 69.272, Val Loss: 0.944, Val Accuracy: 64.401\n",
      "________________________________________________________________________________\n",
      "Epoch  47\n",
      "Saved checkpoint for epoch 47: tf_ckpts/ckpt-47\n",
      "Time taken  15.678013563156128\n",
      "Epoch 47, Loss: 0.800, Accuracy: 69.208, Val Loss: 0.928, Val Accuracy: 64.846\n",
      "________________________________________________________________________________\n",
      "Epoch  48\n",
      "Saved checkpoint for epoch 48: tf_ckpts/ckpt-48\n",
      "Time taken  15.482895612716675\n",
      "Epoch 48, Loss: 0.806, Accuracy: 69.066, Val Loss: 0.858, Val Accuracy: 66.919\n",
      "Validation accuracy increased from 66.760 to 66.919. Saving model weights.\n",
      "________________________________________________________________________________\n",
      "Epoch  49\n",
      "Saved checkpoint for epoch 49: tf_ckpts/ckpt-49\n",
      "Time taken  15.87531328201294\n",
      "Epoch 49, Loss: 0.801, Accuracy: 69.254, Val Loss: 0.996, Val Accuracy: 62.788\n",
      "________________________________________________________________________________\n",
      "Epoch  50\n",
      "Saved checkpoint for epoch 50: tf_ckpts/ckpt-50\n",
      "Time taken  16.367074251174927\n",
      "Epoch 50, Loss: 0.795, Accuracy: 69.438, Val Loss: 0.970, Val Accuracy: 61.402\n",
      "________________________________________________________________________________\n"
     ]
    }
   ],
   "source": [
    "# This variable will help to save the best model if its performance increases after an epoch   \n",
    "highest_accuracy = 0\n",
    "\n",
    "# Training the model for 50 epochs\n",
    "for epoch in range(50):\n",
    "\n",
    "    print(\"Epoch \",epoch+1)\n",
    "    \n",
    "    # Getting the current time before starting the training\n",
    "    # This will help to keep track of how much time an epoch took\n",
    "    start = time.time()\n",
    "    \n",
    "    train_and_checkpoint(model, manager, dataset, epoch+1)\n",
    "    \n",
    "    # Saving the train loss and train accuracy metric for TensorBoard visualization\n",
    "    with train_summary_writer.as_default():\n",
    "        tf.summary.scalar('loss', train_loss.result(), step=ckpt.step.numpy())\n",
    "        tf.summary.scalar('accuracy', train_accuracy.result(), step=ckpt.step.numpy())\n",
    "    \n",
    "    # Validation phase\n",
    "    for (x_test, y_test) in dataset['val'].take(math.ceil(204/16)):\n",
    "        pred = test_step(model, x_test, y_test)\n",
    "    \n",
    "    # Saving the validation loss and validation accuracy metric for Tensorboard visualization\n",
    "    with test_summary_writer.as_default():\n",
    "        tf.summary.scalar('loss', test_loss.result(), step=ckpt.step.numpy())\n",
    "        tf.summary.scalar('accuracy', test_accuracy.result(), step=ckpt.step.numpy())\n",
    "    \n",
    "    # Calculating the time it took for the entire epoch to run\n",
    "    print(\"Time taken \",time.time()-start)\n",
    "    \n",
    "    # Printing the metrics for the epoch\n",
    "    template = 'Epoch {}, Loss: {:.3f}, Accuracy: {:.3f}, Val Loss: {:.3f}, Val Accuracy: {:.3f}'\n",
    "    print (template.format(epoch+1,\n",
    "                            train_loss.result(), \n",
    "                            train_accuracy.result()*100,\n",
    "                            test_loss.result(), \n",
    "                            test_accuracy.result()*100))\n",
    "    \n",
    "    # If accuracy has increased in this epoch, updating the highest accuracy and saving the model\n",
    "    if(test_accuracy.result().numpy()*100>highest_accuracy):\n",
    "        print(\"Validation accuracy increased from {:.3f} to {:.3f}. Saving model weights.\".format(highest_accuracy,test_accuracy.result().numpy()*100))\n",
    "        highest_accuracy = test_accuracy.result().numpy()*100\n",
    "        model.save_weights('pspnet_weights-epoch-{}.hdf5'.format(epoch+1))\n",
    "\n",
    "    print('_'*80)\n",
    "\n",
    "    # Reset metrics after every epoch\n",
    "    train_loss.reset_states()\n",
    "    test_loss.reset_states()\n",
    "    train_accuracy.reset_states()\n",
    "    test_accuracy.reset_states()"
   ]
  },
  {
   "cell_type": "code",
   "execution_count": 2,
   "metadata": {},
   "outputs": [
    {
     "data": {
      "image/png": "[encoded data removed]",
      "text/plain": [
       "<IPython.core.display.Image object>"
      ]
     },
     "metadata": {},
     "output_type": "display_data"
    }
   ],
   "source": [
    "display(Image('Pretrained Encoder.png'))"
   ]
  },
  {
   "cell_type": "code",
   "execution_count": 0,
   "metadata": {
    "colab": {},
    "colab_type": "code",
    "id": "E5w80STlIPu-"
   },
   "outputs": [],
   "source": [
    "# Loading the weights of the best model\n",
    "model.load_weights('pspnet_weights-epoch-48.hdf5')"
   ]
  },
  {
   "cell_type": "code",
   "execution_count": 0,
   "metadata": {
    "colab": {},
    "colab_type": "code",
    "id": "HcxMwQOMxW75"
   },
   "outputs": [],
   "source": [
    "def predict(model,image_path):\n",
    "    \"\"\"\n",
    "    This function will take the model which is going to be used to predict the image and the image path of \n",
    "    the input image as inputs and predict the mask\n",
    "    It returns the true mask and predicted mask\n",
    "    \"\"\"\n",
    "    # Getting the datapoint\n",
    "    # This function will load the image and its annotation (mask) and return a dictionary.\n",
    "    datapoint = parse_image(image_path)\n",
    "    # Normalizing the resizing the datapoint\n",
    "    input_image,image_mask = load_image_test(datapoint)\n",
    "    # As the model takes input with 4 dimensions (batch_size, rows, columns, channels),\n",
    "    # and the shape of the input image is (rows, columns, channels)\n",
    "    # we will expand the first dimension so we will get the shape as  (1, rows, columns, channels)\n",
    "    img = tf.expand_dims(input_image, 0)\n",
    "    # Predicting the image by passing it to the model\n",
    "    prediction = model(img)\n",
    "    # The model will predict 8 outputs for each pixel\n",
    "    # We have to get the maximum value out of it\n",
    "    prediction = tf.argmax(prediction, axis=-1)\n",
    "    prediction = tf.squeeze(prediction, axis = 0)\n",
    "    pred_mask = tf.expand_dims(prediction, axis=-1)\n",
    "    # Displaying the input image, true mask, predicted mask\n",
    "    #display_sample([input_image, image_mask, pred_mask])\n",
    "    return image_mask, pred_mask"
   ]
  },
  {
   "cell_type": "code",
   "execution_count": 0,
   "metadata": {
    "colab": {},
    "colab_type": "code",
    "id": "bdb_IrorxkXN"
   },
   "outputs": [],
   "source": [
    "# Reference -> https://github.com/saisandeepNSS/IDD_SemanticSegmentation\n",
    "\n",
    "def IoU(y_i,y_pred):\n",
    "    # This function calculates the mean Intersection over Union\n",
    "    # Mean IoU = TP/(FN + TP + FP)\n",
    "    # This list will save the IoU of all the classes\n",
    "    IoUs = []\n",
    "    # Defining the number of classes which the model has predicted\n",
    "    n_classes = 8\n",
    "    for c in range(n_classes):\n",
    "        # Calculating the True Positives\n",
    "        TP = np.sum((y_i == c)&(y_pred==c))\n",
    "        # Calculating the False Positives\n",
    "        FP = np.sum((y_i != c)&(y_pred==c))\n",
    "        # Calculating the False Negatives\n",
    "        FN = np.sum((y_i == c)&(y_pred!= c))\n",
    "        # Calculating the IoU for the particular class\n",
    "        IoU = TP/float(TP + FP + FN)\n",
    "        # Printing the outputs\n",
    "        # Uncomment the print statement below when you want to analyze the results for each class\n",
    "        #print(\"class {:02.0f}: #TP={:6.0f}, #FP={:6.0f}, #FN={:5.0f}, IoU={:4.3f}\".format(c,TP,FP,FN,IoU))\n",
    "        # Appending the IoU to the list as it mean needs to be calculated later\n",
    "        if(math.isnan(IoU)):\n",
    "            IoUs.append(0)\n",
    "            continue\n",
    "        IoUs.append(IoU)\n",
    "    # Calculating the mean\n",
    "    mIoU = np.mean(IoUs)\n",
    "    #print(\"_________________\")\n",
    "    #print(\"Mean IoU: {:4.3f}\".format(mIoU))\n",
    "    return mIoU"
   ]
  },
  {
   "cell_type": "markdown",
   "metadata": {},
   "source": [
    "### Validation mIoU for PSPNet with Pretrained Encoder  "
   ]
  },
  {
   "cell_type": "code",
   "execution_count": 0,
   "metadata": {
    "colab": {},
    "colab_type": "code",
    "id": "J6ERQK1g_RAk"
   },
   "outputs": [],
   "source": [
    "img_val = dataset_path + 'leftImg8bit/val/'\n",
    "val_paths = glob(img_val+'*/*_image.jpg')"
   ]
  },
  {
   "cell_type": "code",
   "execution_count": 0,
   "metadata": {
    "colab": {},
    "colab_type": "code",
    "id": "ugUHIIqfz7du"
   },
   "outputs": [],
   "source": [
    "mIoU = []\n",
    "for path in val_paths:\n",
    "    true_mask, pred_mask = predict(model,path)\n",
    "    mIoU.append(IoU(true_mask, pred_mask))"
   ]
  },
  {
   "cell_type": "code",
   "execution_count": 44,
   "metadata": {
    "colab": {
     "base_uri": "https://localhost:8080/",
     "height": 34
    },
    "colab_type": "code",
    "id": "k43_RFJgz9Af",
    "outputId": "81a692fb-6b8c-4c7c-a2a3-bc302f9c707f"
   },
   "outputs": [
    {
     "name": "stdout",
     "output_type": "stream",
     "text": [
      "Validation mIoU =  0.2495278478656353\n"
     ]
    }
   ],
   "source": [
    "print(\"Validation mIoU = \",sum(mIoU)/len(mIoU))"
   ]
  },
  {
   "cell_type": "markdown",
   "metadata": {},
   "source": [
    "# Importing PSPNet from existing official models"
   ]
  },
  {
   "cell_type": "code",
   "execution_count": 8,
   "metadata": {
    "colab": {
     "base_uri": "https://localhost:8080/",
     "height": 34
    },
    "colab_type": "code",
    "id": "4goO_tnLuNAb",
    "outputId": "8b760066-8f1e-4f22-ebb4-212a27e2c953"
   },
   "outputs": [
    {
     "name": "stderr",
     "output_type": "stream",
     "text": [
      "100%|██████████| 1403/1403 [28:20<00:00,  1.21s/it]\n"
     ]
    }
   ],
   "source": [
    "import shutil\n",
    "import tensorflow as tf\n",
    "from tqdm import tqdm\n",
    "\n",
    "for i in tqdm(train_paths):\n",
    "    img = i.split('/')[-1]\n",
    "    shutil.copy(i,'dataset_train/'+img)\n",
    "    mask_path = tf.strings.regex_replace(i, \"leftImg8bit\", \"gtFine\")\n",
    "    mask_path = tf.strings.regex_replace(mask_path, \"_image.jpg\", \"_label.png\")\n",
    "    mask = img.split('_')[0]+'_label.png'\n",
    "    shutil.copy(mask_path.numpy(),'dataset_train/'+mask)"
   ]
  },
  {
   "cell_type": "code",
   "execution_count": 9,
   "metadata": {
    "colab": {
     "base_uri": "https://localhost:8080/",
     "height": 34
    },
    "colab_type": "code",
    "id": "OeblsmaAuY2Q",
    "outputId": "23c5b7ee-bf35-4af6-ac37-dec100eab1ef"
   },
   "outputs": [
    {
     "name": "stderr",
     "output_type": "stream",
     "text": [
      "100%|██████████| 204/204 [04:46<00:00,  1.40s/it]\n"
     ]
    }
   ],
   "source": [
    "for i in tqdm(val_paths):\n",
    "    img = i.split('/')[-1]\n",
    "    shutil.copy(i,'dataset_val/'+img)\n",
    "    mask_path = tf.strings.regex_replace(i, \"leftImg8bit\", \"gtFine\")\n",
    "    mask_path = tf.strings.regex_replace(mask_path, \"_image.jpg\", \"_label.png\")\n",
    "    mask = img.split('_')[0]+'_label.png'\n",
    "    shutil.copy(mask_path.numpy(),'dataset_val/'+mask)"
   ]
  },
  {
   "cell_type": "code",
   "execution_count": 0,
   "metadata": {
    "colab": {},
    "colab_type": "code",
    "id": "stOBgVx1tqVm"
   },
   "outputs": [],
   "source": [
    "# here dir_path is the route directory where all the images and segmentation maps are there\n",
    "train_path = \"dataset_train\"\n",
    "X_train = []\n",
    "for i in os.listdir(train_path):\n",
    "    X_train.append(i.split('.')[0])\n",
    "\n",
    "val_path = \"dataset_val\"\n",
    "X_test = []\n",
    "for i in os.listdir(val_path):\n",
    "    X_test.append(i.split('.')[0])"
   ]
  },
  {
   "cell_type": "code",
   "execution_count": 70,
   "metadata": {
    "colab": {
     "base_uri": "https://localhost:8080/",
     "height": 356
    },
    "colab_type": "code",
    "id": "GbzLx6nQbuoR",
    "outputId": "75b2397d-04cb-4607-9276-c91d4d7890f5",
    "scrolled": true
   },
   "outputs": [
    {
     "name": "stdout",
     "output_type": "stream",
     "text": [
      "Requirement already satisfied: segmentation-models in /usr/local/lib/python3.6/dist-packages (1.0.1)\n",
      "Requirement already satisfied: efficientnet==1.0.0 in /usr/local/lib/python3.6/dist-packages (from segmentation-models) (1.0.0)\n",
      "Requirement already satisfied: image-classifiers==1.0.0 in /usr/local/lib/python3.6/dist-packages (from segmentation-models) (1.0.0)\n",
      "Requirement already satisfied: keras-applications<=1.0.8,>=1.0.7 in /usr/local/lib/python3.6/dist-packages (from segmentation-models) (1.0.8)\n",
      "Requirement already satisfied: scikit-image in /usr/local/lib/python3.6/dist-packages (from efficientnet==1.0.0->segmentation-models) (0.16.2)\n",
      "Requirement already satisfied: h5py in /usr/local/lib/python3.6/dist-packages (from keras-applications<=1.0.8,>=1.0.7->segmentation-models) (2.10.0)\n",
      "Requirement already satisfied: numpy>=1.9.1 in /usr/local/lib/python3.6/dist-packages (from keras-applications<=1.0.8,>=1.0.7->segmentation-models) (1.18.4)\n",
      "Requirement already satisfied: pillow>=4.3.0 in /usr/local/lib/python3.6/dist-packages (from scikit-image->efficientnet==1.0.0->segmentation-models) (7.0.0)\n",
      "Requirement already satisfied: PyWavelets>=0.4.0 in /usr/local/lib/python3.6/dist-packages (from scikit-image->efficientnet==1.0.0->segmentation-models) (1.1.1)\n",
      "Requirement already satisfied: matplotlib!=3.0.0,>=2.0.0 in /usr/local/lib/python3.6/dist-packages (from scikit-image->efficientnet==1.0.0->segmentation-models) (3.2.1)\n",
      "Requirement already satisfied: scipy>=0.19.0 in /usr/local/lib/python3.6/dist-packages (from scikit-image->efficientnet==1.0.0->segmentation-models) (1.4.1)\n",
      "Requirement already satisfied: imageio>=2.3.0 in /usr/local/lib/python3.6/dist-packages (from scikit-image->efficientnet==1.0.0->segmentation-models) (2.4.1)\n",
      "Requirement already satisfied: networkx>=2.0 in /usr/local/lib/python3.6/dist-packages (from scikit-image->efficientnet==1.0.0->segmentation-models) (2.4)\n",
      "Requirement already satisfied: six in /usr/local/lib/python3.6/dist-packages (from h5py->keras-applications<=1.0.8,>=1.0.7->segmentation-models) (1.12.0)\n",
      "Requirement already satisfied: kiwisolver>=1.0.1 in /usr/local/lib/python3.6/dist-packages (from matplotlib!=3.0.0,>=2.0.0->scikit-image->efficientnet==1.0.0->segmentation-models) (1.2.0)\n",
      "Requirement already satisfied: cycler>=0.10 in /usr/local/lib/python3.6/dist-packages (from matplotlib!=3.0.0,>=2.0.0->scikit-image->efficientnet==1.0.0->segmentation-models) (0.10.0)\n",
      "Requirement already satisfied: pyparsing!=2.0.4,!=2.1.2,!=2.1.6,>=2.0.1 in /usr/local/lib/python3.6/dist-packages (from matplotlib!=3.0.0,>=2.0.0->scikit-image->efficientnet==1.0.0->segmentation-models) (2.4.7)\n",
      "Requirement already satisfied: python-dateutil>=2.1 in /usr/local/lib/python3.6/dist-packages (from matplotlib!=3.0.0,>=2.0.0->scikit-image->efficientnet==1.0.0->segmentation-models) (2.8.1)\n",
      "Requirement already satisfied: decorator>=4.3.0 in /usr/local/lib/python3.6/dist-packages (from networkx>=2.0->scikit-image->efficientnet==1.0.0->segmentation-models) (4.4.2)\n"
     ]
    }
   ],
   "source": [
    "!pip install segmentation-models"
   ]
  },
  {
   "cell_type": "code",
   "execution_count": 0,
   "metadata": {
    "colab": {},
    "colab_type": "code",
    "id": "aeJCeGIrbuoS"
   },
   "outputs": [],
   "source": [
    "# we are importing the pretrained unet from the segmentation models\n",
    "# https://github.com/qubvel/segmentation_models\n",
    "import segmentation_models as sm\n",
    "from segmentation_models import PSPNet\n",
    "# sm.set_framework('tf.keras')\n",
    "tf.keras.backend.set_image_data_format('channels_last')"
   ]
  },
  {
   "cell_type": "code",
   "execution_count": 0,
   "metadata": {
    "colab": {},
    "colab_type": "code",
    "id": "XpTKEnXnbuoU",
    "scrolled": true
   },
   "outputs": [],
   "source": [
    "# loading the unet model and using the resnet 34 and initilized weights with imagenet weights\n",
    "# \"classes\" :different types of classes in the dataset\n",
    "model = PSPNet('resnet34', encoder_weights='imagenet', classes=8, activation='softmax', input_shape=(192,192,3))"
   ]
  },
  {
   "cell_type": "code",
   "execution_count": 73,
   "metadata": {
    "colab": {
     "base_uri": "https://localhost:8080/",
     "height": 1000
    },
    "colab_type": "code",
    "id": "IhV3Ir5ibuoW",
    "outputId": "16b600d9-8c61-432d-f9c6-3e591f02d108"
   },
   "outputs": [
    {
     "name": "stdout",
     "output_type": "stream",
     "text": [
      "Model: \"model_4\"\n",
      "__________________________________________________________________________________________________\n",
      "Layer (type)                    Output Shape         Param #     Connected to                     \n",
      "==================================================================================================\n",
      "data (InputLayer)               (None, 192, 192, 3)  0                                            \n",
      "__________________________________________________________________________________________________\n",
      "bn_data (BatchNormalization)    (None, 192, 192, 3)  9           data[0][0]                       \n",
      "__________________________________________________________________________________________________\n",
      "zero_padding2d_35 (ZeroPadding2 (None, 198, 198, 3)  0           bn_data[0][0]                    \n",
      "__________________________________________________________________________________________________\n",
      "conv0 (Conv2D)                  (None, 96, 96, 64)   9408        zero_padding2d_35[0][0]          \n",
      "__________________________________________________________________________________________________\n",
      "bn0 (BatchNormalization)        (None, 96, 96, 64)   256         conv0[0][0]                      \n",
      "__________________________________________________________________________________________________\n",
      "relu0 (Activation)              (None, 96, 96, 64)   0           bn0[0][0]                        \n",
      "__________________________________________________________________________________________________\n",
      "zero_padding2d_36 (ZeroPadding2 (None, 98, 98, 64)   0           relu0[0][0]                      \n",
      "__________________________________________________________________________________________________\n",
      "pooling0 (MaxPooling2D)         (None, 48, 48, 64)   0           zero_padding2d_36[0][0]          \n",
      "__________________________________________________________________________________________________\n",
      "stage1_unit1_bn1 (BatchNormaliz (None, 48, 48, 64)   256         pooling0[0][0]                   \n",
      "__________________________________________________________________________________________________\n",
      "stage1_unit1_relu1 (Activation) (None, 48, 48, 64)   0           stage1_unit1_bn1[0][0]           \n",
      "__________________________________________________________________________________________________\n",
      "zero_padding2d_37 (ZeroPadding2 (None, 50, 50, 64)   0           stage1_unit1_relu1[0][0]         \n",
      "__________________________________________________________________________________________________\n",
      "stage1_unit1_conv1 (Conv2D)     (None, 48, 48, 64)   36864       zero_padding2d_37[0][0]          \n",
      "__________________________________________________________________________________________________\n",
      "stage1_unit1_bn2 (BatchNormaliz (None, 48, 48, 64)   256         stage1_unit1_conv1[0][0]         \n",
      "__________________________________________________________________________________________________\n",
      "stage1_unit1_relu2 (Activation) (None, 48, 48, 64)   0           stage1_unit1_bn2[0][0]           \n",
      "__________________________________________________________________________________________________\n",
      "zero_padding2d_38 (ZeroPadding2 (None, 50, 50, 64)   0           stage1_unit1_relu2[0][0]         \n",
      "__________________________________________________________________________________________________\n",
      "stage1_unit1_conv2 (Conv2D)     (None, 48, 48, 64)   36864       zero_padding2d_38[0][0]          \n",
      "__________________________________________________________________________________________________\n",
      "stage1_unit1_sc (Conv2D)        (None, 48, 48, 64)   4096        stage1_unit1_relu1[0][0]         \n",
      "__________________________________________________________________________________________________\n",
      "add_17 (Add)                    (None, 48, 48, 64)   0           stage1_unit1_conv2[0][0]         \n",
      "                                                                 stage1_unit1_sc[0][0]            \n",
      "__________________________________________________________________________________________________\n",
      "stage1_unit2_bn1 (BatchNormaliz (None, 48, 48, 64)   256         add_17[0][0]                     \n",
      "__________________________________________________________________________________________________\n",
      "stage1_unit2_relu1 (Activation) (None, 48, 48, 64)   0           stage1_unit2_bn1[0][0]           \n",
      "__________________________________________________________________________________________________\n",
      "zero_padding2d_39 (ZeroPadding2 (None, 50, 50, 64)   0           stage1_unit2_relu1[0][0]         \n",
      "__________________________________________________________________________________________________\n",
      "stage1_unit2_conv1 (Conv2D)     (None, 48, 48, 64)   36864       zero_padding2d_39[0][0]          \n",
      "__________________________________________________________________________________________________\n",
      "stage1_unit2_bn2 (BatchNormaliz (None, 48, 48, 64)   256         stage1_unit2_conv1[0][0]         \n",
      "__________________________________________________________________________________________________\n",
      "stage1_unit2_relu2 (Activation) (None, 48, 48, 64)   0           stage1_unit2_bn2[0][0]           \n",
      "__________________________________________________________________________________________________\n",
      "zero_padding2d_40 (ZeroPadding2 (None, 50, 50, 64)   0           stage1_unit2_relu2[0][0]         \n",
      "__________________________________________________________________________________________________\n",
      "stage1_unit2_conv2 (Conv2D)     (None, 48, 48, 64)   36864       zero_padding2d_40[0][0]          \n",
      "__________________________________________________________________________________________________\n",
      "add_18 (Add)                    (None, 48, 48, 64)   0           stage1_unit2_conv2[0][0]         \n",
      "                                                                 add_17[0][0]                     \n",
      "__________________________________________________________________________________________________\n",
      "stage1_unit3_bn1 (BatchNormaliz (None, 48, 48, 64)   256         add_18[0][0]                     \n",
      "__________________________________________________________________________________________________\n",
      "stage1_unit3_relu1 (Activation) (None, 48, 48, 64)   0           stage1_unit3_bn1[0][0]           \n",
      "__________________________________________________________________________________________________\n",
      "zero_padding2d_41 (ZeroPadding2 (None, 50, 50, 64)   0           stage1_unit3_relu1[0][0]         \n",
      "__________________________________________________________________________________________________\n",
      "stage1_unit3_conv1 (Conv2D)     (None, 48, 48, 64)   36864       zero_padding2d_41[0][0]          \n",
      "__________________________________________________________________________________________________\n",
      "stage1_unit3_bn2 (BatchNormaliz (None, 48, 48, 64)   256         stage1_unit3_conv1[0][0]         \n",
      "__________________________________________________________________________________________________\n",
      "stage1_unit3_relu2 (Activation) (None, 48, 48, 64)   0           stage1_unit3_bn2[0][0]           \n",
      "__________________________________________________________________________________________________\n",
      "zero_padding2d_42 (ZeroPadding2 (None, 50, 50, 64)   0           stage1_unit3_relu2[0][0]         \n",
      "__________________________________________________________________________________________________\n",
      "stage1_unit3_conv2 (Conv2D)     (None, 48, 48, 64)   36864       zero_padding2d_42[0][0]          \n",
      "__________________________________________________________________________________________________\n",
      "add_19 (Add)                    (None, 48, 48, 64)   0           stage1_unit3_conv2[0][0]         \n",
      "                                                                 add_18[0][0]                     \n",
      "__________________________________________________________________________________________________\n",
      "stage2_unit1_bn1 (BatchNormaliz (None, 48, 48, 64)   256         add_19[0][0]                     \n",
      "__________________________________________________________________________________________________\n",
      "stage2_unit1_relu1 (Activation) (None, 48, 48, 64)   0           stage2_unit1_bn1[0][0]           \n",
      "__________________________________________________________________________________________________\n",
      "zero_padding2d_43 (ZeroPadding2 (None, 50, 50, 64)   0           stage2_unit1_relu1[0][0]         \n",
      "__________________________________________________________________________________________________\n",
      "stage2_unit1_conv1 (Conv2D)     (None, 24, 24, 128)  73728       zero_padding2d_43[0][0]          \n",
      "__________________________________________________________________________________________________\n",
      "stage2_unit1_bn2 (BatchNormaliz (None, 24, 24, 128)  512         stage2_unit1_conv1[0][0]         \n",
      "__________________________________________________________________________________________________\n",
      "stage2_unit1_relu2 (Activation) (None, 24, 24, 128)  0           stage2_unit1_bn2[0][0]           \n",
      "__________________________________________________________________________________________________\n",
      "zero_padding2d_44 (ZeroPadding2 (None, 26, 26, 128)  0           stage2_unit1_relu2[0][0]         \n",
      "__________________________________________________________________________________________________\n",
      "stage2_unit1_conv2 (Conv2D)     (None, 24, 24, 128)  147456      zero_padding2d_44[0][0]          \n",
      "__________________________________________________________________________________________________\n",
      "stage2_unit1_sc (Conv2D)        (None, 24, 24, 128)  8192        stage2_unit1_relu1[0][0]         \n",
      "__________________________________________________________________________________________________\n",
      "add_20 (Add)                    (None, 24, 24, 128)  0           stage2_unit1_conv2[0][0]         \n",
      "                                                                 stage2_unit1_sc[0][0]            \n",
      "__________________________________________________________________________________________________\n",
      "stage2_unit2_bn1 (BatchNormaliz (None, 24, 24, 128)  512         add_20[0][0]                     \n",
      "__________________________________________________________________________________________________\n",
      "stage2_unit2_relu1 (Activation) (None, 24, 24, 128)  0           stage2_unit2_bn1[0][0]           \n",
      "__________________________________________________________________________________________________\n",
      "zero_padding2d_45 (ZeroPadding2 (None, 26, 26, 128)  0           stage2_unit2_relu1[0][0]         \n",
      "__________________________________________________________________________________________________\n",
      "stage2_unit2_conv1 (Conv2D)     (None, 24, 24, 128)  147456      zero_padding2d_45[0][0]          \n",
      "__________________________________________________________________________________________________\n",
      "stage2_unit2_bn2 (BatchNormaliz (None, 24, 24, 128)  512         stage2_unit2_conv1[0][0]         \n",
      "__________________________________________________________________________________________________\n",
      "stage2_unit2_relu2 (Activation) (None, 24, 24, 128)  0           stage2_unit2_bn2[0][0]           \n",
      "__________________________________________________________________________________________________\n",
      "zero_padding2d_46 (ZeroPadding2 (None, 26, 26, 128)  0           stage2_unit2_relu2[0][0]         \n",
      "__________________________________________________________________________________________________\n",
      "stage2_unit2_conv2 (Conv2D)     (None, 24, 24, 128)  147456      zero_padding2d_46[0][0]          \n",
      "__________________________________________________________________________________________________\n",
      "add_21 (Add)                    (None, 24, 24, 128)  0           stage2_unit2_conv2[0][0]         \n",
      "                                                                 add_20[0][0]                     \n",
      "__________________________________________________________________________________________________\n",
      "stage2_unit3_bn1 (BatchNormaliz (None, 24, 24, 128)  512         add_21[0][0]                     \n",
      "__________________________________________________________________________________________________\n",
      "stage2_unit3_relu1 (Activation) (None, 24, 24, 128)  0           stage2_unit3_bn1[0][0]           \n",
      "__________________________________________________________________________________________________\n",
      "zero_padding2d_47 (ZeroPadding2 (None, 26, 26, 128)  0           stage2_unit3_relu1[0][0]         \n",
      "__________________________________________________________________________________________________\n",
      "stage2_unit3_conv1 (Conv2D)     (None, 24, 24, 128)  147456      zero_padding2d_47[0][0]          \n",
      "__________________________________________________________________________________________________\n",
      "stage2_unit3_bn2 (BatchNormaliz (None, 24, 24, 128)  512         stage2_unit3_conv1[0][0]         \n",
      "__________________________________________________________________________________________________\n",
      "stage2_unit3_relu2 (Activation) (None, 24, 24, 128)  0           stage2_unit3_bn2[0][0]           \n",
      "__________________________________________________________________________________________________\n",
      "zero_padding2d_48 (ZeroPadding2 (None, 26, 26, 128)  0           stage2_unit3_relu2[0][0]         \n",
      "__________________________________________________________________________________________________\n",
      "stage2_unit3_conv2 (Conv2D)     (None, 24, 24, 128)  147456      zero_padding2d_48[0][0]          \n",
      "__________________________________________________________________________________________________\n",
      "add_22 (Add)                    (None, 24, 24, 128)  0           stage2_unit3_conv2[0][0]         \n",
      "                                                                 add_21[0][0]                     \n",
      "__________________________________________________________________________________________________\n",
      "stage2_unit4_bn1 (BatchNormaliz (None, 24, 24, 128)  512         add_22[0][0]                     \n",
      "__________________________________________________________________________________________________\n",
      "stage2_unit4_relu1 (Activation) (None, 24, 24, 128)  0           stage2_unit4_bn1[0][0]           \n",
      "__________________________________________________________________________________________________\n",
      "zero_padding2d_49 (ZeroPadding2 (None, 26, 26, 128)  0           stage2_unit4_relu1[0][0]         \n",
      "__________________________________________________________________________________________________\n",
      "stage2_unit4_conv1 (Conv2D)     (None, 24, 24, 128)  147456      zero_padding2d_49[0][0]          \n",
      "__________________________________________________________________________________________________\n",
      "stage2_unit4_bn2 (BatchNormaliz (None, 24, 24, 128)  512         stage2_unit4_conv1[0][0]         \n",
      "__________________________________________________________________________________________________\n",
      "stage2_unit4_relu2 (Activation) (None, 24, 24, 128)  0           stage2_unit4_bn2[0][0]           \n",
      "__________________________________________________________________________________________________\n",
      "zero_padding2d_50 (ZeroPadding2 (None, 26, 26, 128)  0           stage2_unit4_relu2[0][0]         \n",
      "__________________________________________________________________________________________________\n",
      "stage2_unit4_conv2 (Conv2D)     (None, 24, 24, 128)  147456      zero_padding2d_50[0][0]          \n",
      "__________________________________________________________________________________________________\n",
      "add_23 (Add)                    (None, 24, 24, 128)  0           stage2_unit4_conv2[0][0]         \n",
      "                                                                 add_22[0][0]                     \n",
      "__________________________________________________________________________________________________\n",
      "stage3_unit1_bn1 (BatchNormaliz (None, 24, 24, 128)  512         add_23[0][0]                     \n",
      "__________________________________________________________________________________________________\n",
      "stage3_unit1_relu1 (Activation) (None, 24, 24, 128)  0           stage3_unit1_bn1[0][0]           \n",
      "__________________________________________________________________________________________________\n",
      "psp_level1_pooling (AveragePool (None, 1, 1, 128)    0           stage3_unit1_relu1[0][0]         \n",
      "__________________________________________________________________________________________________\n",
      "psp_level2_pooling (AveragePool (None, 2, 2, 128)    0           stage3_unit1_relu1[0][0]         \n",
      "__________________________________________________________________________________________________\n",
      "psp_level3_pooling (AveragePool (None, 3, 3, 128)    0           stage3_unit1_relu1[0][0]         \n",
      "__________________________________________________________________________________________________\n",
      "psp_level6_pooling (AveragePool (None, 6, 6, 128)    0           stage3_unit1_relu1[0][0]         \n",
      "__________________________________________________________________________________________________\n",
      "psp_level1_conv (Conv2D)        (None, 1, 1, 512)    65536       psp_level1_pooling[0][0]         \n",
      "__________________________________________________________________________________________________\n",
      "psp_level2_conv (Conv2D)        (None, 2, 2, 512)    65536       psp_level2_pooling[0][0]         \n",
      "__________________________________________________________________________________________________\n",
      "psp_level3_conv (Conv2D)        (None, 3, 3, 512)    65536       psp_level3_pooling[0][0]         \n",
      "__________________________________________________________________________________________________\n",
      "psp_level6_conv (Conv2D)        (None, 6, 6, 512)    65536       psp_level6_pooling[0][0]         \n",
      "__________________________________________________________________________________________________\n",
      "psp_level1_bn (BatchNormalizati (None, 1, 1, 512)    2048        psp_level1_conv[0][0]            \n",
      "__________________________________________________________________________________________________\n",
      "psp_level2_bn (BatchNormalizati (None, 2, 2, 512)    2048        psp_level2_conv[0][0]            \n",
      "__________________________________________________________________________________________________\n",
      "psp_level3_bn (BatchNormalizati (None, 3, 3, 512)    2048        psp_level3_conv[0][0]            \n",
      "__________________________________________________________________________________________________\n",
      "psp_level6_bn (BatchNormalizati (None, 6, 6, 512)    2048        psp_level6_conv[0][0]            \n",
      "__________________________________________________________________________________________________\n",
      "psp_level1_relu (Activation)    (None, 1, 1, 512)    0           psp_level1_bn[0][0]              \n",
      "__________________________________________________________________________________________________\n",
      "psp_level2_relu (Activation)    (None, 2, 2, 512)    0           psp_level2_bn[0][0]              \n",
      "__________________________________________________________________________________________________\n",
      "psp_level3_relu (Activation)    (None, 3, 3, 512)    0           psp_level3_bn[0][0]              \n",
      "__________________________________________________________________________________________________\n",
      "psp_level6_relu (Activation)    (None, 6, 6, 512)    0           psp_level6_bn[0][0]              \n",
      "__________________________________________________________________________________________________\n",
      "psp_level1_upsampling (UpSampli (None, 24, 24, 512)  0           psp_level1_relu[0][0]            \n",
      "__________________________________________________________________________________________________\n",
      "psp_level2_upsampling (UpSampli (None, 24, 24, 512)  0           psp_level2_relu[0][0]            \n",
      "__________________________________________________________________________________________________\n",
      "psp_level3_upsampling (UpSampli (None, 24, 24, 512)  0           psp_level3_relu[0][0]            \n",
      "__________________________________________________________________________________________________\n",
      "psp_level6_upsampling (UpSampli (None, 24, 24, 512)  0           psp_level6_relu[0][0]            \n",
      "__________________________________________________________________________________________________\n",
      "psp_concat (Concatenate)        (None, 24, 24, 2176) 0           stage3_unit1_relu1[0][0]         \n",
      "                                                                 psp_level1_upsampling[0][0]      \n",
      "                                                                 psp_level2_upsampling[0][0]      \n",
      "                                                                 psp_level3_upsampling[0][0]      \n",
      "                                                                 psp_level6_upsampling[0][0]      \n",
      "__________________________________________________________________________________________________\n",
      "aggregation_conv (Conv2D)       (None, 24, 24, 512)  1114112     psp_concat[0][0]                 \n",
      "__________________________________________________________________________________________________\n",
      "aggregation_bn (BatchNormalizat (None, 24, 24, 512)  2048        aggregation_conv[0][0]           \n",
      "__________________________________________________________________________________________________\n",
      "aggregation_relu (Activation)   (None, 24, 24, 512)  0           aggregation_bn[0][0]             \n",
      "__________________________________________________________________________________________________\n",
      "final_conv (Conv2D)             (None, 24, 24, 8)    36872       aggregation_relu[0][0]           \n",
      "__________________________________________________________________________________________________\n",
      "final_upsampling (UpSampling2D) (None, 192, 192, 8)  0           final_conv[0][0]                 \n",
      "__________________________________________________________________________________________________\n",
      "softmax (Activation)            (None, 192, 192, 8)  0           final_upsampling[0][0]           \n",
      "==================================================================================================\n",
      "Total params: 2,778,321\n",
      "Trainable params: 2,770,123\n",
      "Non-trainable params: 8,198\n",
      "__________________________________________________________________________________________________\n"
     ]
    }
   ],
   "source": [
    "model.summary()"
   ]
  },
  {
   "cell_type": "code",
   "execution_count": 0,
   "metadata": {
    "colab": {},
    "colab_type": "code",
    "id": "1YL4QZdAbuoZ"
   },
   "outputs": [],
   "source": [
    "# import imgaug.augmenters as iaa\n",
    "# For the assignment choose any 4 augumentation techniques\n",
    "# check the imgaug documentations for more augmentations\n",
    "aug2 = iaa.Fliplr(1)\n",
    "aug3 = iaa.Flipud(1)\n",
    "aug4 = iaa.Emboss(alpha=(1), strength=1)\n",
    "aug5 = iaa.DirectedEdgeDetect(alpha=(0.8), direction=(1.0))\n",
    "aug6 = iaa.Sharpen(alpha=(1.0), lightness=(1.5))"
   ]
  },
  {
   "cell_type": "code",
   "execution_count": 0,
   "metadata": {
    "colab": {},
    "colab_type": "code",
    "id": "nweraVpDbuoa"
   },
   "outputs": [],
   "source": [
    "def visualize(**images):\n",
    "    n = len(images)\n",
    "    plt.figure(figsize=(16, 5))\n",
    "    for i, (name, image) in enumerate(images.items()):\n",
    "        plt.subplot(1, n, i + 1)\n",
    "        plt.xticks([])\n",
    "        plt.yticks([])\n",
    "        plt.title(' '.join(name.split('_')).title())\n",
    "        if i==1:\n",
    "            plt.imshow(image, cmap='gray', vmax=1, vmin=0)\n",
    "        else:\n",
    "            plt.imshow(image)\n",
    "    plt.show()\n",
    "    \n",
    "def normalize_image(img):\n",
    "    img = img/255\n",
    "    return img\n",
    "\n",
    "class Dataset:\n",
    "    \n",
    "    CLASSES = [0,1,2,3,4,5,6,7]\n",
    "    \n",
    "    def __init__(self, directory, img_files,  classes):\n",
    "        \n",
    "        self.img_ids = img_files\n",
    "        self.images_fps   = [os.path.join(directory, image_id.split('_')[0]+'_image.jpg') for image_id in self.img_ids]\n",
    "        self.masks_fps    = [os.path.join(directory, image_id.split('_')[0]+'_label.png') for image_id in self.img_ids]\n",
    "        self.class_values = [0,1,2,3,4,5,6,7]\n",
    "        \n",
    "    def __getitem__(self, i):\n",
    "        \n",
    "        # read data\n",
    "        image = cv2.imread(self.images_fps[i], cv2.IMREAD_UNCHANGED)\n",
    "        mask  = cv2.imread(self.masks_fps[i], cv2.IMREAD_UNCHANGED)\n",
    "        image = np.float32(cv2.resize(image,(192,192)))\n",
    "        mask = np.float32(cv2.resize(mask,(192,192)))\n",
    "        mask[mask==255] = 7\n",
    "        image = normalize_image(image)\n",
    "\n",
    "        image_masks = [(mask == v) for v in self.class_values]\n",
    "        image_mask = np.stack(image_masks, axis=-1).astype('float')\n",
    "\n",
    "        a = np.random.uniform()\n",
    "        if a<0.2:\n",
    "            image = aug2.augment_image(image)\n",
    "            image_mask = aug2.augment_image(image_mask)\n",
    "        elif a<0.4:\n",
    "            image = aug3.augment_image(image)\n",
    "            image_mask = aug3.augment_image(image_mask)\n",
    "        elif a<0.6:\n",
    "            image = aug4.augment_image(image)\n",
    "            image_mask = aug4.augment_image(image_mask)\n",
    "        elif a<0.8:\n",
    "            image = aug5.augment_image(image)\n",
    "            image_mask = image_mask\n",
    "        else:\n",
    "            image = aug6.augment_image(image)\n",
    "            image_mask = aug6.augment_image(image_mask)\n",
    "\n",
    "        return image, image_mask\n",
    "        \n",
    "    def __len__(self):\n",
    "        return len(self.img_ids)\n",
    "    \n",
    "    \n",
    "class Dataloder(tf.keras.utils.Sequence):    \n",
    "    def __init__(self, dataset, batch_size=1, shuffle=False):\n",
    "        self.dataset = dataset\n",
    "        self.batch_size = batch_size\n",
    "        self.shuffle = shuffle\n",
    "        self.indexes = np.arange(len(dataset))\n",
    "\n",
    "    def __getitem__(self, i):       \n",
    "        # collect batch data\n",
    "        start = i * self.batch_size\n",
    "        stop = (i + 1) * self.batch_size\n",
    "        data = []\n",
    "        for j in range(start, stop):\n",
    "            data.append(self.dataset[j])\n",
    "        \n",
    "        batch = [np.stack(samples, axis=0) for samples in zip(*data)]\n",
    "        \n",
    "        return tuple(batch)\n",
    "    \n",
    "    def __len__(self):\n",
    "        return len(self.indexes) // self.batch_size\n",
    "    \n",
    "    def on_epoch_end(self):\n",
    "        if self.shuffle:\n",
    "            self.indexes = np.random.permutation(self.indexes)"
   ]
  },
  {
   "cell_type": "code",
   "execution_count": 0,
   "metadata": {
    "colab": {},
    "colab_type": "code",
    "id": "XT3hj1dGbuod"
   },
   "outputs": [],
   "source": [
    "# https://github.com/qubvel/segmentation_models\n",
    "import segmentation_models as sm\n",
    "from segmentation_models.metrics import iou_score\n",
    "from segmentation_models import Unet\n",
    "\n",
    "optim = tf.keras.optimizers.Adam(0.0001)\n",
    "\n",
    "focal_loss = sm.losses.cce_dice_loss\n",
    "\n",
    "# actulally total_loss can be imported directly from library, above example just show you how to manipulate with losses\n",
    "# total_loss = sm.losses.binary_focal_dice_loss \n",
    "# or total_loss = sm.losses.categorical_focal_dice_loss \n",
    "\n",
    "model.compile(optim, focal_loss, metrics=['accuracy',iou_score])"
   ]
  },
  {
   "cell_type": "code",
   "execution_count": 0,
   "metadata": {
    "colab": {},
    "colab_type": "code",
    "id": "c6MdKt4Tbuof"
   },
   "outputs": [],
   "source": [
    "# Dataset for train images\n",
    "CLASSES = ['Drivable', 'Non_Drivable', 'Living_things', 'Vehicles', 'Road_side_objects', 'Far_objects', 'Sky', 'Other']\n",
    "    \n",
    "train_dataset = Dataset(train_path, X_train, classes=CLASSES)\n",
    "test_dataset  = Dataset(val_path, X_test, classes=CLASSES)"
   ]
  },
  {
   "cell_type": "code",
   "execution_count": 78,
   "metadata": {
    "colab": {
     "base_uri": "https://localhost:8080/",
     "height": 34
    },
    "colab_type": "code",
    "id": "HDa3vPNMnoZe",
    "outputId": "68dd94f5-b913-4693-8e7e-99bd1ffc8b97"
   },
   "outputs": [
    {
     "name": "stdout",
     "output_type": "stream",
     "text": [
      "(16, 192, 192, 3)\n"
     ]
    }
   ],
   "source": [
    "train_dataloader = Dataloder(train_dataset, batch_size=16, shuffle=True)\n",
    "test_dataloader = Dataloder(test_dataset, batch_size=16, shuffle=True)\n",
    "\n",
    "print(train_dataloader[0][0].shape)\n",
    "assert train_dataloader[0][0].shape == (16, 192, 192, 3)\n",
    "assert train_dataloader[0][1].shape == (16, 192, 192, 8)"
   ]
  },
  {
   "cell_type": "code",
   "execution_count": 79,
   "metadata": {
    "colab": {
     "base_uri": "https://localhost:8080/",
     "height": 1000
    },
    "colab_type": "code",
    "id": "eigCK3TZbuoh",
    "outputId": "b2ff08b5-7ad2-4314-d786-651343f0064e"
   },
   "outputs": [
    {
     "name": "stdout",
     "output_type": "stream",
     "text": [
      "Epoch 1/50\n",
      "172/172 [==============================] - 56s 324ms/step - loss: 0.6927 - accuracy: 0.7007 - iou_score: 0.3307 - val_loss: 1.1258 - val_accuracy: 0.3242 - val_iou_score: 0.0811\n",
      "Epoch 2/50\n",
      "172/172 [==============================] - 50s 292ms/step - loss: 0.5616 - accuracy: 0.7755 - iou_score: 0.4275 - val_loss: 1.3182 - val_accuracy: 0.3515 - val_iou_score: 0.0993\n",
      "Epoch 3/50\n",
      "172/172 [==============================] - 50s 292ms/step - loss: 0.5139 - accuracy: 0.7985 - iou_score: 0.4656 - val_loss: 1.1319 - val_accuracy: 0.4567 - val_iou_score: 0.1664\n",
      "Epoch 4/50\n",
      "172/172 [==============================] - 50s 293ms/step - loss: 0.4784 - accuracy: 0.8138 - iou_score: 0.4964 - val_loss: 0.7648 - val_accuracy: 0.6318 - val_iou_score: 0.3004\n",
      "Epoch 5/50\n",
      "172/172 [==============================] - 50s 293ms/step - loss: 0.4549 - accuracy: 0.8233 - iou_score: 0.5180 - val_loss: 0.5992 - val_accuracy: 0.7234 - val_iou_score: 0.4027\n",
      "Epoch 6/50\n",
      "172/172 [==============================] - 50s 291ms/step - loss: 0.4376 - accuracy: 0.8302 - iou_score: 0.5330 - val_loss: 0.5339 - val_accuracy: 0.7803 - val_iou_score: 0.4730\n",
      "Epoch 7/50\n",
      "172/172 [==============================] - 50s 293ms/step - loss: 0.4232 - accuracy: 0.8367 - iou_score: 0.5452 - val_loss: 0.4503 - val_accuracy: 0.8015 - val_iou_score: 0.5155\n",
      "Epoch 8/50\n",
      "172/172 [==============================] - 50s 293ms/step - loss: 0.4107 - accuracy: 0.8418 - iou_score: 0.5560 - val_loss: 0.5303 - val_accuracy: 0.8045 - val_iou_score: 0.5060\n",
      "Epoch 9/50\n",
      "172/172 [==============================] - 50s 291ms/step - loss: 0.4036 - accuracy: 0.8455 - iou_score: 0.5607 - val_loss: 0.4561 - val_accuracy: 0.8082 - val_iou_score: 0.5014\n",
      "Epoch 10/50\n",
      "172/172 [==============================] - 51s 294ms/step - loss: 0.3904 - accuracy: 0.8511 - iou_score: 0.5751 - val_loss: 0.4671 - val_accuracy: 0.8145 - val_iou_score: 0.5216\n",
      "Epoch 11/50\n",
      "172/172 [==============================] - 50s 292ms/step - loss: 0.3815 - accuracy: 0.8547 - iou_score: 0.5818 - val_loss: 0.4644 - val_accuracy: 0.8139 - val_iou_score: 0.5202\n",
      "Epoch 12/50\n",
      "172/172 [==============================] - 50s 291ms/step - loss: 0.3754 - accuracy: 0.8571 - iou_score: 0.5869 - val_loss: 0.4706 - val_accuracy: 0.8122 - val_iou_score: 0.5172\n",
      "Epoch 13/50\n",
      "172/172 [==============================] - 50s 293ms/step - loss: 0.3643 - accuracy: 0.8608 - iou_score: 0.5981 - val_loss: 0.4457 - val_accuracy: 0.8143 - val_iou_score: 0.5284\n",
      "Epoch 14/50\n",
      "172/172 [==============================] - 50s 292ms/step - loss: 0.3617 - accuracy: 0.8629 - iou_score: 0.5989 - val_loss: 0.4543 - val_accuracy: 0.8169 - val_iou_score: 0.5220\n",
      "Epoch 15/50\n",
      "172/172 [==============================] - 50s 292ms/step - loss: 0.3527 - accuracy: 0.8658 - iou_score: 0.6086 - val_loss: 0.4512 - val_accuracy: 0.8196 - val_iou_score: 0.5188\n",
      "Epoch 16/50\n",
      "172/172 [==============================] - 50s 292ms/step - loss: 0.3498 - accuracy: 0.8677 - iou_score: 0.6110 - val_loss: 0.4573 - val_accuracy: 0.8206 - val_iou_score: 0.5450\n",
      "Epoch 17/50\n",
      "172/172 [==============================] - 50s 291ms/step - loss: 0.3412 - accuracy: 0.8694 - iou_score: 0.6193 - val_loss: 0.4476 - val_accuracy: 0.8224 - val_iou_score: 0.5422\n",
      "Epoch 18/50\n",
      "172/172 [==============================] - 50s 291ms/step - loss: 0.3349 - accuracy: 0.8712 - iou_score: 0.6264 - val_loss: 0.4522 - val_accuracy: 0.8224 - val_iou_score: 0.5361\n",
      "Epoch 19/50\n",
      "172/172 [==============================] - 50s 291ms/step - loss: 0.3323 - accuracy: 0.8733 - iou_score: 0.6290 - val_loss: 0.4734 - val_accuracy: 0.8152 - val_iou_score: 0.5323\n",
      "Epoch 20/50\n",
      "172/172 [==============================] - 50s 293ms/step - loss: 0.3236 - accuracy: 0.8751 - iou_score: 0.6376 - val_loss: 0.4593 - val_accuracy: 0.8249 - val_iou_score: 0.5447\n",
      "Epoch 21/50\n",
      "172/172 [==============================] - 50s 292ms/step - loss: 0.3251 - accuracy: 0.8760 - iou_score: 0.6346 - val_loss: 0.4678 - val_accuracy: 0.8212 - val_iou_score: 0.5348\n",
      "Epoch 22/50\n",
      "172/172 [==============================] - 50s 293ms/step - loss: 0.3221 - accuracy: 0.8773 - iou_score: 0.6395 - val_loss: 0.4400 - val_accuracy: 0.8149 - val_iou_score: 0.5416\n",
      "Epoch 23/50\n",
      "172/172 [==============================] - 50s 291ms/step - loss: 0.3129 - accuracy: 0.8792 - iou_score: 0.6484 - val_loss: 0.4350 - val_accuracy: 0.8174 - val_iou_score: 0.5375\n",
      "Epoch 24/50\n",
      "172/172 [==============================] - 50s 292ms/step - loss: 0.3122 - accuracy: 0.8796 - iou_score: 0.6454 - val_loss: 0.4207 - val_accuracy: 0.8216 - val_iou_score: 0.5470\n",
      "Epoch 25/50\n",
      "172/172 [==============================] - 50s 292ms/step - loss: 0.3090 - accuracy: 0.8814 - iou_score: 0.6510 - val_loss: 0.4567 - val_accuracy: 0.8223 - val_iou_score: 0.5567\n",
      "Epoch 26/50\n",
      "172/172 [==============================] - 50s 292ms/step - loss: 0.3046 - accuracy: 0.8829 - iou_score: 0.6578 - val_loss: 0.4549 - val_accuracy: 0.8251 - val_iou_score: 0.5421\n",
      "Epoch 27/50\n",
      "172/172 [==============================] - 50s 291ms/step - loss: 0.3046 - accuracy: 0.8834 - iou_score: 0.6570 - val_loss: 0.4248 - val_accuracy: 0.8230 - val_iou_score: 0.5479\n",
      "Epoch 28/50\n",
      "172/172 [==============================] - 50s 292ms/step - loss: 0.3016 - accuracy: 0.8839 - iou_score: 0.6609 - val_loss: 0.4350 - val_accuracy: 0.8263 - val_iou_score: 0.5488\n",
      "Epoch 29/50\n",
      "172/172 [==============================] - 50s 292ms/step - loss: 0.3009 - accuracy: 0.8849 - iou_score: 0.6584 - val_loss: 0.4531 - val_accuracy: 0.8257 - val_iou_score: 0.5404\n",
      "Epoch 30/50\n",
      "172/172 [==============================] - 50s 293ms/step - loss: 0.2960 - accuracy: 0.8862 - iou_score: 0.6617 - val_loss: 0.4188 - val_accuracy: 0.8267 - val_iou_score: 0.5551\n",
      "Epoch 31/50\n",
      "172/172 [==============================] - 51s 295ms/step - loss: 0.2913 - accuracy: 0.8875 - iou_score: 0.6712 - val_loss: 0.4784 - val_accuracy: 0.8276 - val_iou_score: 0.5550\n",
      "Epoch 32/50\n",
      "172/172 [==============================] - 50s 293ms/step - loss: 0.2921 - accuracy: 0.8878 - iou_score: 0.6695 - val_loss: 0.4336 - val_accuracy: 0.8217 - val_iou_score: 0.5507\n",
      "Epoch 33/50\n",
      "172/172 [==============================] - 50s 293ms/step - loss: 0.2912 - accuracy: 0.8884 - iou_score: 0.6684 - val_loss: 0.4310 - val_accuracy: 0.8230 - val_iou_score: 0.5424\n",
      "Epoch 34/50\n",
      "172/172 [==============================] - 50s 293ms/step - loss: 0.2892 - accuracy: 0.8896 - iou_score: 0.6698 - val_loss: 0.4308 - val_accuracy: 0.8281 - val_iou_score: 0.5395\n",
      "Epoch 35/50\n",
      "172/172 [==============================] - 50s 293ms/step - loss: 0.2854 - accuracy: 0.8906 - iou_score: 0.6775 - val_loss: 0.4043 - val_accuracy: 0.8282 - val_iou_score: 0.5485\n",
      "Epoch 36/50\n",
      "172/172 [==============================] - 50s 293ms/step - loss: 0.2787 - accuracy: 0.8917 - iou_score: 0.6833 - val_loss: 0.4173 - val_accuracy: 0.8248 - val_iou_score: 0.5517\n",
      "Epoch 37/50\n",
      "172/172 [==============================] - 50s 293ms/step - loss: 0.2778 - accuracy: 0.8917 - iou_score: 0.6827 - val_loss: 0.4586 - val_accuracy: 0.8269 - val_iou_score: 0.5575\n",
      "Epoch 38/50\n",
      "172/172 [==============================] - 50s 293ms/step - loss: 0.2798 - accuracy: 0.8919 - iou_score: 0.6796 - val_loss: 0.4548 - val_accuracy: 0.8290 - val_iou_score: 0.5509\n",
      "Epoch 39/50\n",
      "172/172 [==============================] - 50s 293ms/step - loss: 0.2761 - accuracy: 0.8934 - iou_score: 0.6865 - val_loss: 0.4126 - val_accuracy: 0.8190 - val_iou_score: 0.5570\n",
      "Epoch 40/50\n",
      "172/172 [==============================] - 50s 292ms/step - loss: 0.2744 - accuracy: 0.8938 - iou_score: 0.6856 - val_loss: 0.4333 - val_accuracy: 0.8257 - val_iou_score: 0.5590\n",
      "Epoch 41/50\n",
      "172/172 [==============================] - 51s 294ms/step - loss: 0.2707 - accuracy: 0.8945 - iou_score: 0.6907 - val_loss: 0.4037 - val_accuracy: 0.8269 - val_iou_score: 0.5571\n",
      "Epoch 42/50\n",
      "172/172 [==============================] - 51s 295ms/step - loss: 0.2692 - accuracy: 0.8957 - iou_score: 0.6932 - val_loss: 0.4789 - val_accuracy: 0.8272 - val_iou_score: 0.5535\n",
      "Epoch 43/50\n",
      "172/172 [==============================] - 50s 293ms/step - loss: 0.2648 - accuracy: 0.8962 - iou_score: 0.6975 - val_loss: 0.4413 - val_accuracy: 0.8289 - val_iou_score: 0.5528\n",
      "Epoch 44/50\n",
      "172/172 [==============================] - 51s 294ms/step - loss: 0.2624 - accuracy: 0.8962 - iou_score: 0.7001 - val_loss: 0.4471 - val_accuracy: 0.8298 - val_iou_score: 0.5724\n",
      "Epoch 45/50\n",
      "172/172 [==============================] - 50s 293ms/step - loss: 0.2676 - accuracy: 0.8967 - iou_score: 0.6934 - val_loss: 0.4827 - val_accuracy: 0.8272 - val_iou_score: 0.5456\n",
      "Epoch 46/50\n",
      "172/172 [==============================] - 50s 293ms/step - loss: 0.2599 - accuracy: 0.8968 - iou_score: 0.7004 - val_loss: 0.3968 - val_accuracy: 0.8191 - val_iou_score: 0.5539\n",
      "Epoch 47/50\n",
      "172/172 [==============================] - 50s 292ms/step - loss: 0.2598 - accuracy: 0.8975 - iou_score: 0.7035 - val_loss: 0.4671 - val_accuracy: 0.8274 - val_iou_score: 0.5593\n",
      "Epoch 48/50\n",
      "172/172 [==============================] - 50s 293ms/step - loss: 0.2592 - accuracy: 0.8981 - iou_score: 0.7028 - val_loss: 0.4484 - val_accuracy: 0.8252 - val_iou_score: 0.5527\n",
      "Epoch 49/50\n",
      "172/172 [==============================] - 50s 292ms/step - loss: 0.2558 - accuracy: 0.8989 - iou_score: 0.7055 - val_loss: 0.4223 - val_accuracy: 0.8262 - val_iou_score: 0.5638\n",
      "Epoch 50/50\n",
      "172/172 [==============================] - 50s 292ms/step - loss: 0.2573 - accuracy: 0.8991 - iou_score: 0.7042 - val_loss: 0.4005 - val_accuracy: 0.8308 - val_iou_score: 0.5499\n"
     ]
    }
   ],
   "source": [
    "history = model.fit_generator(train_dataloader, steps_per_epoch=len(train_dataloader), epochs=50,\\\n",
    "                              validation_data=test_dataloader)"
   ]
  },
  {
   "cell_type": "code",
   "execution_count": 80,
   "metadata": {
    "colab": {
     "base_uri": "https://localhost:8080/",
     "height": 290
    },
    "colab_type": "code",
    "id": "OxForupXbuoi",
    "outputId": "f4d9e6ac-cb17-426c-e2ab-d124ee45fe42"
   },
   "outputs": [
    {
     "data": {
      "image/png": "[encoded data removed]",
      "text/plain": [
       "<Figure size 2160x360 with 2 Axes>"
      ]
     },
     "metadata": {
      "needs_background": "light",
      "tags": []
     },
     "output_type": "display_data"
    }
   ],
   "source": [
    "# Plot training & validation iou_score values\n",
    "plt.figure(figsize=(30, 5))\n",
    "plt.subplot(121)\n",
    "plt.plot(history.history['iou_score'])\n",
    "plt.plot(history.history['val_iou_score'])\n",
    "plt.title('Model iou_score')\n",
    "plt.ylabel('iou_score')\n",
    "plt.xlabel('Epoch')\n",
    "plt.legend(['Train', 'Test'], loc='upper left')\n",
    "\n",
    "# Plot training & validation loss values\n",
    "plt.subplot(122)\n",
    "plt.plot(history.history['loss'])\n",
    "plt.plot(history.history['val_loss'])\n",
    "plt.title('Model loss')\n",
    "plt.ylabel('Loss')\n",
    "plt.xlabel('Epoch')\n",
    "plt.legend(['Train', 'Test'], loc='upper left')\n",
    "plt.show()"
   ]
  },
  {
   "cell_type": "code",
   "execution_count": 0,
   "metadata": {
    "colab": {},
    "colab_type": "code",
    "id": "kIK8bq3Nb9MY"
   },
   "outputs": [],
   "source": [
    "HEIGHT = 192\n",
    "WIDTH = 192\n",
    "\n",
    "def parse_image(img_path):\n",
    "    \"\"\"\n",
    "    Load an image and its annotation (mask) and returning a dictionary.\n",
    "    \"\"\"\n",
    "    # Reading the image\n",
    "    image = tf.io.read_file(img_path)\n",
    "    image = tf.image.decode_jpeg(image, channels=3)\n",
    "    # For one Image path:\n",
    "    # .../idd20k_lite/leftImg8bit/train/024541_image.jpg\n",
    "    # Its corresponding annotation path is:\n",
    "    # .../idd20k_lite/gtFine/train/024541_label.png\n",
    "    mask_path = tf.strings.regex_replace(img_path, \"leftImg8bit\", \"gtFine\")\n",
    "    mask_path = tf.strings.regex_replace(mask_path, \"_image.jpg\", \"_label.png\")\n",
    "    # Reading the annotation file corresponding the image file\n",
    "    mask = tf.io.read_file(mask_path)\n",
    "    mask = tf.image.decode_png(mask, channels=1)\n",
    "    # In scene parsing, \"not labeled\" = 255\n",
    "    # But it will mess with our N_CLASS = 7\n",
    "    # Since 255 means the 255th class\n",
    "    # Which doesn't exist\n",
    "    mask = tf.where(mask==255, np.dtype('uint8').type(7), mask)\n",
    "    # Note that we have to convert the new value (7)\n",
    "    # With the same dtype than the tensor itself\n",
    "    return {'image': image, 'segmentation_mask': mask}\n",
    "\n",
    "# Reference -> https://www.tensorflow.org/api_docs/python/tf/cast\n",
    "# Returns a Tensor same shape as given tensor and same type as dtype that is mentioned.\n",
    "\n",
    "def normalize(input_image, input_mask):\n",
    "    \"\"\"\n",
    "    Rescale the pixel values of the images between 0 and 1 compared to [0,255] originally.\n",
    "    \"\"\"\n",
    "    input_image = tf.cast(input_image, tf.float32) / 255.0\n",
    "    return input_image, input_mask\n",
    "\n",
    "def load_image_test(datapoint):\n",
    "    \"\"\"\n",
    "    Normalize and resize a test image and its annotation.\n",
    "    Since this is for the test set, we don't need to apply any data augmentation technique.\n",
    "    \"\"\"\n",
    "    input_image = tf.image.resize(datapoint['image'], (HEIGHT,WIDTH))\n",
    "    input_mask = tf.image.resize(datapoint['segmentation_mask'], (HEIGHT,WIDTH))\n",
    "    input_image, input_mask = normalize(input_image, input_mask)\n",
    "    return input_image, input_mask"
   ]
  },
  {
   "cell_type": "code",
   "execution_count": 0,
   "metadata": {
    "colab": {},
    "colab_type": "code",
    "id": "WcEcEIvMJDJO"
   },
   "outputs": [],
   "source": [
    "# Reference -> https://github.com/saisandeepNSS/IDD_SemanticSegmentation\n",
    "\n",
    "def IoU(y_i,y_pred):\n",
    "    # This function calculates the mean Intersection over Union\n",
    "    # Mean IoU = TP/(FN + TP + FP)\n",
    "    # This list will save the IoU of all the classes\n",
    "    IoUs = []\n",
    "    # Defining the number of classes which the model has predicted\n",
    "    n_classes = 8\n",
    "    for c in range(n_classes):\n",
    "        # Calculating the True Positives\n",
    "        TP = np.sum((y_i == c)&(y_pred==c))\n",
    "        # Calculating the False Positives\n",
    "        FP = np.sum((y_i != c)&(y_pred==c))\n",
    "        # Calculating the False Negatives\n",
    "        FN = np.sum((y_i == c)&(y_pred!= c))\n",
    "        # Calculating the IoU for the particular class\n",
    "        IoU = TP/float(TP + FP + FN)\n",
    "        # Printing the outputs\n",
    "        # Uncomment the print statement below when you want to analyze the results for each class\n",
    "        #print(\"class {:02.0f}: #TP={:6.0f}, #FP={:6.0f}, #FN={:5.0f}, IoU={:4.3f}\".format(c,TP,FP,FN,IoU))\n",
    "        # Appending the IoU to the list as it mean needs to be calculated later\n",
    "        if(math.isnan(IoU)):\n",
    "            IoUs.append(0)\n",
    "            continue\n",
    "        IoUs.append(IoU)\n",
    "    # Calculating the mean\n",
    "    mIoU = np.mean(IoUs)\n",
    "    #print(\"_________________\")\n",
    "    #print(\"Mean IoU: {:4.3f}\".format(mIoU))\n",
    "    return mIoU"
   ]
  },
  {
   "cell_type": "code",
   "execution_count": 0,
   "metadata": {
    "colab": {},
    "colab_type": "code",
    "id": "epCBdc3oJuGU"
   },
   "outputs": [],
   "source": [
    "def predict(model,image_path):\n",
    "    \"\"\"\n",
    "    This function will take the model which is going to be used to predict the image and the image path of \n",
    "    the input image as inputs and predict the mask\n",
    "    It returns the true mask and predicted mask\n",
    "    \"\"\"\n",
    "    # Getting the datapoint\n",
    "    # This function will load the image and its annotation (mask) and return a dictionary.\n",
    "    datapoint = parse_image(image_path)\n",
    "    # Normalizing the resizing the datapoint\n",
    "    input_image,image_mask = load_image_test(datapoint)\n",
    "    # As the model takes input with 4 dimensions (batch_size, rows, columns, channels),\n",
    "    # and the shape of the input image is (rows, columns, channels)\n",
    "    # we will expand the first dimension so we will get the shape as  (1, rows, columns, channels)\n",
    "    img = tf.expand_dims(input_image, 0)\n",
    "    # Predicting the image by passing it to the model\n",
    "    prediction = model.predict_on_batch(img)\n",
    "    # The model will predict 8 outputs for each pixel\n",
    "    # We have to get the maximum value out of it\n",
    "    prediction = tf.argmax(prediction, axis=-1)\n",
    "    prediction = tf.squeeze(prediction, axis = 0)\n",
    "    pred_mask = tf.expand_dims(prediction, axis=-1)\n",
    "    # Displaying the input image, true mask, predicted mask\n",
    "    #display_sample([input_image, image_mask, pred_mask])\n",
    "    return image_mask, pred_mask"
   ]
  },
  {
   "cell_type": "markdown",
   "metadata": {},
   "source": [
    "### Validation mIoU for PSPNet imported model "
   ]
  },
  {
   "cell_type": "code",
   "execution_count": 0,
   "metadata": {
    "colab": {},
    "colab_type": "code",
    "id": "8O9we200JP3D"
   },
   "outputs": [],
   "source": [
    "img_val = dataset_path + 'leftImg8bit/val/'\n",
    "val_paths = glob(img_val+'*/*_image.jpg')"
   ]
  },
  {
   "cell_type": "code",
   "execution_count": 86,
   "metadata": {
    "colab": {
     "base_uri": "https://localhost:8080/",
     "height": 34
    },
    "colab_type": "code",
    "id": "eTz1GK53JJBF",
    "outputId": "cf9aed40-a4c1-4bfb-8e61-687621825050"
   },
   "outputs": [
    {
     "name": "stderr",
     "output_type": "stream",
     "text": [
      "/usr/local/lib/python3.6/dist-packages/ipykernel_launcher.py:18: RuntimeWarning: invalid value encountered in true_divide\n"
     ]
    }
   ],
   "source": [
    "mIoU = []\n",
    "for path in val_paths:\n",
    "    true_mask, pred_mask = predict(model,path)\n",
    "    mIoU.append(IoU(true_mask, pred_mask))"
   ]
  },
  {
   "cell_type": "code",
   "execution_count": 87,
   "metadata": {
    "colab": {
     "base_uri": "https://localhost:8080/",
     "height": 34
    },
    "colab_type": "code",
    "id": "V7ZAZG1Wdc-K",
    "outputId": "9651a8a8-e2da-41c4-fa6b-34668b0bc2fd"
   },
   "outputs": [
    {
     "name": "stdout",
     "output_type": "stream",
     "text": [
      "Validation mIoU Score :  0.363701048404907\n"
     ]
    }
   ],
   "source": [
    "print(\"Validation mIoU Score : \",sum(mIoU)/len(mIoU))"
   ]
  },
  {
   "cell_type": "markdown",
   "metadata": {},
   "source": [
    "# Observations"
   ]
  },
  {
   "cell_type": "code",
   "execution_count": 10,
   "metadata": {},
   "outputs": [
    {
     "name": "stdout",
     "output_type": "stream",
     "text": [
      "+----------------------------------+------------------------+-----------------------------+-----------------+\n",
      "|              Model               | Highest Train Accuracy | Highest Validation Accuracy | Validation mIoU |\n",
      "+----------------------------------+------------------------+-----------------------------+-----------------+\n",
      "|      PSPNet (from Scratch)       |        89.76 %         |           80.80 %           |     0.43338     |\n",
      "| PSPNet with a Pretrained Encoder |        69.438 %        |           66.919 %          |     0.24952     |\n",
      "|  PSPNet (from official models)   |        89.91 %         |           83.08 %           |      0.3637     |\n",
      "+----------------------------------+------------------------+-----------------------------+-----------------+\n"
     ]
    }
   ],
   "source": [
    "from prettytable import PrettyTable\n",
    "\n",
    "# Representing results in a table\n",
    "pt = PrettyTable()\n",
    "\n",
    "pt.field_names = [\"Model\", \"Highest Train Accuracy\", \"Highest Validation Accuracy\", \"Validation mIoU\"]\n",
    "pt.add_row([\"PSPNet (from Scratch)\",'89.76 %','80.80 %',0.43338])\n",
    "pt.add_row([\"PSPNet with a Pretrained Encoder\",'69.438 %','66.919 %',0.24952])\n",
    "pt.add_row([\"PSPNet (from official models)\",'89.91 %','83.08 %', 0.36370])\n",
    "print(pt)            "
   ]
  },
  {
   "cell_type": "markdown",
   "metadata": {},
   "source": [
    "* The best results are found using PSPNet from Scratch model.\n",
    "* When we train PSPNet using a pretrained encoder, the results fluctuate a lot and the validation mIoU is very low as well.\n",
    "* While using the official model, we get a high validation accuracy, but the validation mIoU score is low."
   ]
  }
 ],
 "metadata": {
  "accelerator": "GPU",
  "colab": {
   "collapsed_sections": [],
   "machine_shape": "hm",
   "name": "ModelBuildingPSPNet_Final.ipynb",
   "provenance": []
  },
  "kernelspec": {
   "display_name": "Python 3",
   "language": "python",
   "name": "python3"
  },
  "language_info": {
   "codemirror_mode": {
    "name": "ipython",
    "version": 3
   },
   "file_extension": ".py",
   "mimetype": "text/x-python",
   "name": "python",
   "nbconvert_exporter": "python",
   "pygments_lexer": "ipython3",
   "version": "3.7.4"
  }
 },
 "nbformat": 4,
 "nbformat_minor": 1
}
